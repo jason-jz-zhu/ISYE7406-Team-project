{
 "cells": [
  {
   "cell_type": "markdown",
   "metadata": {
    "_cell_guid": "bcd03d7c-7d30-4f1c-8a26-2cbe6b14f552",
    "_uuid": "09d9fa44c0c0368932872816328e248eef888d29"
   },
   "source": [
    "## A Basic Notebook for Airbnb\n",
    "*by Jiazhen Zhu\n",
    "March 2021*"
   ]
  },
  {
   "cell_type": "markdown",
   "metadata": {
    "_cell_guid": "a3bd9e8b-b618-46d3-ba07-bdc4b49d4b85",
    "_uuid": "5d1fb9922d8da76ec7773c1b03cc637c08985c46"
   },
   "source": [
    "## Steps Covered\n",
    "1. Business Understanding\n",
    "    *  Objective (What is the goal? What do you want to predict or estimate?)\n",
    "    *  Description\n",
    "2. Data Understanding\n",
    "    *  Import libraries\n",
    "    *  Load training and testing data  (How were the data sampled? Which data are relevant? Are there privacy issues?)\n",
    "    *  Statistical summaries and visualisations (Explore data) (Plot the data. Are there anomalies? Are there patterns?)\n",
    "    *  Data quality check\n",
    "3. Data Preparation\n",
    "    *  Clean data\n",
    "        * Missing values imputation\n",
    "    *  Construct required data\n",
    "        * Feature Engineering\n",
    "    *  Integrate data\n",
    "4. Modeling\n",
    "    *  Build the model (Build a model. Fit the model. Validate the model.)\n",
    "5. Evaluation\n",
    "    *  Model performance\n",
    "    *  Feature importance\n",
    "    *  The best model\n",
    "6. Deployment\n",
    "    *  Submit the result\n",
    "\n",
    "[Adopted from Cross Industry Standard Process for Data Mining (CRISP-DM)](https://www.sv-europe.com/crisp-dm-methodology/)"
   ]
  },
  {
   "cell_type": "markdown",
   "metadata": {
    "_cell_guid": "fbb09601-253d-4f77-a37a-eb65cb70e227",
    "_uuid": "2d52c0f0978524830cd5785bac8b50742a81b604"
   },
   "source": [
    "## Goals we focus\n",
    "There are seven major goals we need to focus during the analysis.\n",
    "\n",
    "__Correlating__. One can approach the problem based on available features within the training dataset. Which features within the dataset contribute significantly to our solution goal? Statistically speaking is there a correlation among a feature and solution goal? As the feature values change does the solution state change as well, and visa-versa? This can be tested both for numerical and categorical features in the given dataset. We may also want to determine correlation among features other than survival for subsequent goals and workflow stages. Correlating certain features may help in creating, completing, or correcting features.\n",
    "\n",
    "__Converting__ For modeling stage, one needs to prepare the data. Depending on the choice of model algorithm one may require all features to be converted to numerical equivalent values. So for instance converting text categorical values to numeric values.\n",
    "\n",
    "__Completing__. Data preparation may also require us to estimate any missing values within a feature. Model algorithms may work best when there are no missing values.\n",
    "\n",
    "__Correcting__. We may also analyze the given training dataset for errors or possibly innacurate values within features and try to corrent these values or exclude the samples containing the errors. One way to do this is to detect any outliers among our samples or features. We may also completely discard a feature if it is not contribting to the analysis or may significantly skew the results.\n",
    "\n",
    "__Creating__. Can we create new features based on an existing feature or a set of features, such that the new feature follows the correlation, conversion, completeness goals.\n",
    "\n",
    "__Charting__. How to select the right visualization plots and charts depending on nature of the data and the solution goals.\n",
    "\n",
    "[Adopted from Titanic Data Science Solutions which is created by Manav Sehgal](https://www.kaggle.com/startupsci/titanic-data-science-solutions)"
   ]
  },
  {
   "cell_type": "markdown",
   "metadata": {
    "_cell_guid": "b1076dfc-b9ad-4769-8c92-a6c4dae69d19",
    "_kg_hide-input": true,
    "_kg_hide-output": true,
    "_uuid": "8f2839f25d086af736a60e9eeb907d3b93b6e0e5"
   },
   "source": [
    "# 1. Business Understanding\n",
    "## 1.1 Objective\n",
    "Predict log_price on the Airbnb data\n",
    "\n",
    "## 1.2 Description\n",
    "Airbnb, Inc. operates an online marketplace for lodging, primarily homestays for vacation rentals, and tourism activities. It connects people looking to rent out their homes (“Host”) to people looking for accommodations (“Guests”) in the locale. It is based in San Francisco, one of the most beautiful cities in the United States and the jewel of Northern California. The city offers a vibrant history, great neighborhoods, parks, beaches, museums, and a whole host of entertainment options and things to do and thus is the focus of our project. The objective of our project is to implement scientific research methods to effectively predict the most appropriate listing price for a typical home in San Francisco."
   ]
  },
  {
   "cell_type": "markdown",
   "metadata": {
    "_cell_guid": "4071e296-1bd5-48ab-8c97-30cd42400f86",
    "_uuid": "35307f74491a68576e8740b296fe0ad8df882075"
   },
   "source": [
    "# 2. Data Understanding\n",
    "## 2.1 Import libraries"
   ]
  },
  {
   "cell_type": "code",
   "execution_count": 3,
   "metadata": {
    "_cell_guid": "79c7e3d0-c299-4dcb-8224-4455121ee9b0",
    "_uuid": "d629ff2d2480ee46fbb7e2d37f6b5fab8052498a"
   },
   "outputs": [],
   "source": [
    "# Ignore warnings\n",
    "import warnings\n",
    "warnings.filterwarnings('ignore')\n",
    "\n",
    "# data analysis and wrangling\n",
    "import pandas as pd\n",
    "import numpy as np\n",
    "import random as rnd\n",
    "\n",
    "# visualization\n",
    "import seaborn as sns\n",
    "import matplotlib.pyplot as plt\n",
    "\n",
    "# Configure visualisations\n",
    "%matplotlib inline\n",
    "\n",
    "# machine learning\n",
    "from sklearn.linear_model import LogisticRegression\n",
    "from sklearn.svm import SVC, LinearSVC\n",
    "from sklearn.ensemble import RandomForestClassifier\n",
    "from sklearn.neighbors import KNeighborsClassifier\n",
    "from sklearn.naive_bayes import GaussianNB\n",
    "from sklearn.linear_model import Perceptron\n",
    "from sklearn.linear_model import SGDClassifier\n",
    "from sklearn.tree import DecisionTreeClassifier\n",
    "\n",
    "# Modelling Helpers\n",
    "from sklearn.impute import SimpleImputer\n",
    "from sklearn.preprocessing import  Normalizer , scale\n",
    "from sklearn.model_selection import train_test_split , StratifiedKFold\n",
    "from sklearn.feature_selection import RFECV"
   ]
  },
  {
   "cell_type": "markdown",
   "metadata": {
    "_cell_guid": "350c8372-d7e7-4a3d-a276-20a704237184",
    "_uuid": "13b0f2cc97bd3fded6c0e65f935e1e1c107d7198"
   },
   "source": [
    "## 2.2 Load training and testing data"
   ]
  },
  {
   "cell_type": "code",
   "execution_count": 4,
   "metadata": {
    "_cell_guid": "5291b435-aceb-4f49-bacb-bd651faab9c6",
    "_uuid": "18238877d278f044a1d192f407640527ece1868f"
   },
   "outputs": [
    {
     "name": "stdout",
     "output_type": "stream",
     "text": [
      "Datasets: full: (5985, 20)\n"
     ]
    }
   ],
   "source": [
    "full = pd.read_csv('airbnb.csv')\n",
    "print ('Datasets:' , 'full:' , full.shape )"
   ]
  },
  {
   "cell_type": "markdown",
   "metadata": {
    "_cell_guid": "054725d0-b010-424a-9967-1f81a4cfd3ef",
    "_uuid": "892928eb3a07bf74d696c1850be4319aa0a3adf4"
   },
   "source": [
    "## 2.3 Statistical summaries and visualisations (Explore data)"
   ]
  },
  {
   "cell_type": "markdown",
   "metadata": {
    "_cell_guid": "23ae24ca-6430-4e0e-9161-d3e5f82b75dc",
    "_uuid": "d0439b81dd0e60e4d15ef32c1274dde009508e08"
   },
   "source": [
    "We will look at few row and overview for the data"
   ]
  },
  {
   "cell_type": "code",
   "execution_count": 5,
   "metadata": {
    "_cell_guid": "71e7551b-8f53-47ba-a2a8-ab253a2bee07",
    "_uuid": "a9ca9df5e1586d32ab79dabd57ad5a9ff3894538"
   },
   "outputs": [
    {
     "data": {
      "text/html": [
       "<div>\n",
       "<style scoped>\n",
       "    .dataframe tbody tr th:only-of-type {\n",
       "        vertical-align: middle;\n",
       "    }\n",
       "\n",
       "    .dataframe tbody tr th {\n",
       "        vertical-align: top;\n",
       "    }\n",
       "\n",
       "    .dataframe thead th {\n",
       "        text-align: right;\n",
       "    }\n",
       "</style>\n",
       "<table border=\"1\" class=\"dataframe\">\n",
       "  <thead>\n",
       "    <tr style=\"text-align: right;\">\n",
       "      <th></th>\n",
       "      <th>index</th>\n",
       "      <th>log_price</th>\n",
       "      <th>accommodates</th>\n",
       "      <th>bathrooms</th>\n",
       "      <th>cleaning_fee</th>\n",
       "      <th>host_identity_verified</th>\n",
       "      <th>instant_bookable</th>\n",
       "      <th>latitude</th>\n",
       "      <th>longitude</th>\n",
       "      <th>number_of_reviews</th>\n",
       "      <th>review_scores_rating</th>\n",
       "      <th>bedrooms</th>\n",
       "      <th>count_amenities</th>\n",
       "      <th>property_type_Condominium</th>\n",
       "      <th>property_type_House</th>\n",
       "      <th>property_type_Loft</th>\n",
       "      <th>room_type_Private room</th>\n",
       "      <th>room_type_Shared room</th>\n",
       "      <th>cancellation_policy_moderate</th>\n",
       "      <th>cancellation_policy_strict</th>\n",
       "    </tr>\n",
       "  </thead>\n",
       "  <tbody>\n",
       "    <tr>\n",
       "      <th>0</th>\n",
       "      <td>0</td>\n",
       "      <td>6.620073</td>\n",
       "      <td>4</td>\n",
       "      <td>1.0</td>\n",
       "      <td>1</td>\n",
       "      <td>1</td>\n",
       "      <td>0</td>\n",
       "      <td>37.772004</td>\n",
       "      <td>-122.431619</td>\n",
       "      <td>0</td>\n",
       "      <td>97.0</td>\n",
       "      <td>2.0</td>\n",
       "      <td>15</td>\n",
       "      <td>0</td>\n",
       "      <td>1</td>\n",
       "      <td>0</td>\n",
       "      <td>0</td>\n",
       "      <td>0</td>\n",
       "      <td>0</td>\n",
       "      <td>0</td>\n",
       "    </tr>\n",
       "    <tr>\n",
       "      <th>1</th>\n",
       "      <td>1</td>\n",
       "      <td>4.442651</td>\n",
       "      <td>2</td>\n",
       "      <td>1.0</td>\n",
       "      <td>1</td>\n",
       "      <td>1</td>\n",
       "      <td>1</td>\n",
       "      <td>37.753164</td>\n",
       "      <td>-122.429526</td>\n",
       "      <td>3</td>\n",
       "      <td>100.0</td>\n",
       "      <td>1.0</td>\n",
       "      <td>10</td>\n",
       "      <td>0</td>\n",
       "      <td>0</td>\n",
       "      <td>0</td>\n",
       "      <td>1</td>\n",
       "      <td>0</td>\n",
       "      <td>0</td>\n",
       "      <td>1</td>\n",
       "    </tr>\n",
       "    <tr>\n",
       "      <th>2</th>\n",
       "      <td>2</td>\n",
       "      <td>4.787492</td>\n",
       "      <td>2</td>\n",
       "      <td>1.0</td>\n",
       "      <td>1</td>\n",
       "      <td>0</td>\n",
       "      <td>0</td>\n",
       "      <td>37.781128</td>\n",
       "      <td>-122.501095</td>\n",
       "      <td>159</td>\n",
       "      <td>99.0</td>\n",
       "      <td>1.0</td>\n",
       "      <td>21</td>\n",
       "      <td>0</td>\n",
       "      <td>1</td>\n",
       "      <td>0</td>\n",
       "      <td>1</td>\n",
       "      <td>0</td>\n",
       "      <td>1</td>\n",
       "      <td>0</td>\n",
       "    </tr>\n",
       "    <tr>\n",
       "      <th>3</th>\n",
       "      <td>3</td>\n",
       "      <td>4.828314</td>\n",
       "      <td>2</td>\n",
       "      <td>1.0</td>\n",
       "      <td>1</td>\n",
       "      <td>1</td>\n",
       "      <td>1</td>\n",
       "      <td>37.773728</td>\n",
       "      <td>-122.463129</td>\n",
       "      <td>138</td>\n",
       "      <td>96.0</td>\n",
       "      <td>1.0</td>\n",
       "      <td>28</td>\n",
       "      <td>0</td>\n",
       "      <td>1</td>\n",
       "      <td>0</td>\n",
       "      <td>1</td>\n",
       "      <td>0</td>\n",
       "      <td>0</td>\n",
       "      <td>1</td>\n",
       "    </tr>\n",
       "    <tr>\n",
       "      <th>4</th>\n",
       "      <td>4</td>\n",
       "      <td>6.620073</td>\n",
       "      <td>6</td>\n",
       "      <td>2.0</td>\n",
       "      <td>1</td>\n",
       "      <td>1</td>\n",
       "      <td>1</td>\n",
       "      <td>37.730798</td>\n",
       "      <td>-122.448609</td>\n",
       "      <td>18</td>\n",
       "      <td>97.0</td>\n",
       "      <td>3.0</td>\n",
       "      <td>14</td>\n",
       "      <td>0</td>\n",
       "      <td>0</td>\n",
       "      <td>0</td>\n",
       "      <td>0</td>\n",
       "      <td>0</td>\n",
       "      <td>0</td>\n",
       "      <td>0</td>\n",
       "    </tr>\n",
       "  </tbody>\n",
       "</table>\n",
       "</div>"
      ],
      "text/plain": [
       "   index  log_price  accommodates  bathrooms  cleaning_fee  \\\n",
       "0      0   6.620073             4        1.0             1   \n",
       "1      1   4.442651             2        1.0             1   \n",
       "2      2   4.787492             2        1.0             1   \n",
       "3      3   4.828314             2        1.0             1   \n",
       "4      4   6.620073             6        2.0             1   \n",
       "\n",
       "   host_identity_verified  instant_bookable   latitude   longitude  \\\n",
       "0                       1                 0  37.772004 -122.431619   \n",
       "1                       1                 1  37.753164 -122.429526   \n",
       "2                       0                 0  37.781128 -122.501095   \n",
       "3                       1                 1  37.773728 -122.463129   \n",
       "4                       1                 1  37.730798 -122.448609   \n",
       "\n",
       "   number_of_reviews  review_scores_rating  bedrooms  count_amenities  \\\n",
       "0                  0                  97.0       2.0               15   \n",
       "1                  3                 100.0       1.0               10   \n",
       "2                159                  99.0       1.0               21   \n",
       "3                138                  96.0       1.0               28   \n",
       "4                 18                  97.0       3.0               14   \n",
       "\n",
       "   property_type_Condominium  property_type_House  property_type_Loft  \\\n",
       "0                          0                    1                   0   \n",
       "1                          0                    0                   0   \n",
       "2                          0                    1                   0   \n",
       "3                          0                    1                   0   \n",
       "4                          0                    0                   0   \n",
       "\n",
       "   room_type_Private room  room_type_Shared room  \\\n",
       "0                       0                      0   \n",
       "1                       1                      0   \n",
       "2                       1                      0   \n",
       "3                       1                      0   \n",
       "4                       0                      0   \n",
       "\n",
       "   cancellation_policy_moderate  cancellation_policy_strict  \n",
       "0                             0                           0  \n",
       "1                             0                           1  \n",
       "2                             1                           0  \n",
       "3                             0                           1  \n",
       "4                             0                           0  "
      ]
     },
     "execution_count": 5,
     "metadata": {},
     "output_type": "execute_result"
    }
   ],
   "source": [
    "full.head()"
   ]
  },
  {
   "cell_type": "code",
   "execution_count": 20,
   "metadata": {},
   "outputs": [
    {
     "data": {
      "text/plain": [
       "array([0, 1])"
      ]
     },
     "execution_count": 20,
     "metadata": {},
     "output_type": "execute_result"
    }
   ],
   "source": [
    "full['cancellation_policy_strict'].unique()"
   ]
  },
  {
   "cell_type": "code",
   "execution_count": 6,
   "metadata": {
    "_cell_guid": "79951ecc-b657-4d2d-bb2b-07cebbc5bd2f",
    "_uuid": "0cfa2cc77ac4689d8912a8b2dc1beebd3a22af72"
   },
   "outputs": [
    {
     "data": {
      "text/plain": [
       "index                             int64\n",
       "log_price                       float64\n",
       "accommodates                      int64\n",
       "bathrooms                       float64\n",
       "cleaning_fee                      int64\n",
       "host_identity_verified            int64\n",
       "instant_bookable                  int64\n",
       "latitude                        float64\n",
       "longitude                       float64\n",
       "number_of_reviews                 int64\n",
       "review_scores_rating            float64\n",
       "bedrooms                        float64\n",
       "count_amenities                   int64\n",
       "property_type_Condominium         int64\n",
       "property_type_House               int64\n",
       "property_type_Loft                int64\n",
       "room_type_Private room            int64\n",
       "room_type_Shared room             int64\n",
       "cancellation_policy_moderate      int64\n",
       "cancellation_policy_strict        int64\n",
       "dtype: object"
      ]
     },
     "execution_count": 6,
     "metadata": {},
     "output_type": "execute_result"
    }
   ],
   "source": [
    "full.dtypes"
   ]
  },
  {
   "cell_type": "markdown",
   "metadata": {
    "_cell_guid": "ec892a5a-e848-403f-82de-e4fa287d9695",
    "_uuid": "46ce1421dea04f6ef2747c93684e9552514c2538"
   },
   "source": [
    "### 2.3.1 The features what we have"
   ]
  },
  {
   "cell_type": "code",
   "execution_count": 7,
   "metadata": {
    "_cell_guid": "3845eeb2-61f2-48e7-b60c-69e76b52b1a5",
    "_uuid": "16e2f75f11f33438d29b8df789371ef021126f9f"
   },
   "outputs": [
    {
     "data": {
      "text/plain": [
       "array(['index', 'log_price', 'accommodates', 'bathrooms', 'cleaning_fee',\n",
       "       'host_identity_verified', 'instant_bookable', 'latitude',\n",
       "       'longitude', 'number_of_reviews', 'review_scores_rating',\n",
       "       'bedrooms', 'count_amenities', 'property_type_Condominium',\n",
       "       'property_type_House', 'property_type_Loft',\n",
       "       'room_type_Private room', 'room_type_Shared room',\n",
       "       'cancellation_policy_moderate', 'cancellation_policy_strict'],\n",
       "      dtype=object)"
      ]
     },
     "execution_count": 7,
     "metadata": {},
     "output_type": "execute_result"
    }
   ],
   "source": [
    "full.columns.values"
   ]
  },
  {
   "cell_type": "markdown",
   "metadata": {
    "_cell_guid": "155e39c6-0c17-432b-b04b-07887942ade8",
    "_uuid": "f880bf11b00533f7819854687ed7acc364f51beb"
   },
   "source": [
    "There are total 18 features in our datasets. We will split them into categorical, quantitative data, and string data.. "
   ]
  },
  {
   "cell_type": "markdown",
   "metadata": {
    "_cell_guid": "bfc61527-5b3b-49d0-a9ec-f35e419ebbf2",
    "_uuid": "c6b62c04c93e58b9230cf192e20afffa0d692779"
   },
   "source": [
    "### 2.3.2 Categorical features\n",
    "__Binary Variable__\n",
    "1. cleaning_fee\n",
    "2. host_identity_verified\n",
    "3. instant_bookable\n",
    "4. property_type_Condominium\n",
    "5. property_type_House\n",
    "6. property_type_Loft\n",
    "7. room_type_Private room\n",
    "8. room_type_Shared room\n",
    "9. cancellation_policy_moderate\n",
    "10. cancellation_policy_strict\n",
    "\n",
    "__Ordinal Variable__\n",
    "1. accommodates\n",
    "\n",
    "### 2.3.3 Quantitative features\n",
    "__Continous Variable__\n",
    "1. bathrooms\n",
    "2. latitude\n",
    "3. longitude\n",
    "4. review_scores_rating\n",
    "\n",
    "__Discrete Variable__\n",
    "1. number_of_reviews\n",
    "2. bedrooms\n",
    "3. count_amenities\n",
    "\n",
    "### 2.3.4 String features\n",
    "1. \n"
   ]
  },
  {
   "cell_type": "markdown",
   "metadata": {
    "_cell_guid": "9db77395-4e3d-41e9-83c3-94afb0ffcaf2",
    "_uuid": "ba7b393e6c62c1602f9576e642ac7c3a8ca1e018"
   },
   "source": [
    "### 2.3.5 Some numeric key information"
   ]
  },
  {
   "cell_type": "code",
   "execution_count": 22,
   "metadata": {
    "_cell_guid": "6daefa8d-0d6f-4c7a-af25-a9ca650c6a2b",
    "_uuid": "2626b74eb42140d27f41f344b6a0a1c3d2aa7167"
   },
   "outputs": [
    {
     "data": {
      "text/html": [
       "<div>\n",
       "<style scoped>\n",
       "    .dataframe tbody tr th:only-of-type {\n",
       "        vertical-align: middle;\n",
       "    }\n",
       "\n",
       "    .dataframe tbody tr th {\n",
       "        vertical-align: top;\n",
       "    }\n",
       "\n",
       "    .dataframe thead th {\n",
       "        text-align: right;\n",
       "    }\n",
       "</style>\n",
       "<table border=\"1\" class=\"dataframe\">\n",
       "  <thead>\n",
       "    <tr style=\"text-align: right;\">\n",
       "      <th></th>\n",
       "      <th>index</th>\n",
       "      <th>log_price</th>\n",
       "      <th>accommodates</th>\n",
       "      <th>bathrooms</th>\n",
       "      <th>cleaning_fee</th>\n",
       "      <th>host_identity_verified</th>\n",
       "      <th>instant_bookable</th>\n",
       "      <th>latitude</th>\n",
       "      <th>longitude</th>\n",
       "      <th>number_of_reviews</th>\n",
       "      <th>review_scores_rating</th>\n",
       "      <th>bedrooms</th>\n",
       "      <th>count_amenities</th>\n",
       "      <th>property_type_Condominium</th>\n",
       "      <th>property_type_House</th>\n",
       "      <th>property_type_Loft</th>\n",
       "      <th>room_type_Private room</th>\n",
       "      <th>room_type_Shared room</th>\n",
       "      <th>cancellation_policy_moderate</th>\n",
       "      <th>cancellation_policy_strict</th>\n",
       "    </tr>\n",
       "  </thead>\n",
       "  <tbody>\n",
       "    <tr>\n",
       "      <th>count</th>\n",
       "      <td>5985.000000</td>\n",
       "      <td>5985.000000</td>\n",
       "      <td>5985.000000</td>\n",
       "      <td>5985.000000</td>\n",
       "      <td>5985.000000</td>\n",
       "      <td>5985.000000</td>\n",
       "      <td>5985.000000</td>\n",
       "      <td>5985.000000</td>\n",
       "      <td>5985.000000</td>\n",
       "      <td>5985.000000</td>\n",
       "      <td>5985.000000</td>\n",
       "      <td>5985.000000</td>\n",
       "      <td>5985.000000</td>\n",
       "      <td>5985.000000</td>\n",
       "      <td>5985.000000</td>\n",
       "      <td>5985.000000</td>\n",
       "      <td>5985.000000</td>\n",
       "      <td>5985.000000</td>\n",
       "      <td>5985.000000</td>\n",
       "      <td>5985.000000</td>\n",
       "    </tr>\n",
       "    <tr>\n",
       "      <th>mean</th>\n",
       "      <td>2992.000000</td>\n",
       "      <td>5.181716</td>\n",
       "      <td>3.181287</td>\n",
       "      <td>1.266165</td>\n",
       "      <td>0.751044</td>\n",
       "      <td>0.726149</td>\n",
       "      <td>0.228070</td>\n",
       "      <td>37.766804</td>\n",
       "      <td>-122.431531</td>\n",
       "      <td>28.531830</td>\n",
       "      <td>95.546282</td>\n",
       "      <td>1.372598</td>\n",
       "      <td>18.483542</td>\n",
       "      <td>0.083208</td>\n",
       "      <td>0.316625</td>\n",
       "      <td>0.014035</td>\n",
       "      <td>0.392147</td>\n",
       "      <td>0.013200</td>\n",
       "      <td>0.301420</td>\n",
       "      <td>0.409357</td>\n",
       "    </tr>\n",
       "    <tr>\n",
       "      <th>std</th>\n",
       "      <td>1727.865012</td>\n",
       "      <td>0.680618</td>\n",
       "      <td>1.960433</td>\n",
       "      <td>0.543634</td>\n",
       "      <td>0.432444</td>\n",
       "      <td>0.445971</td>\n",
       "      <td>0.419623</td>\n",
       "      <td>0.021753</td>\n",
       "      <td>0.025494</td>\n",
       "      <td>51.298569</td>\n",
       "      <td>5.872485</td>\n",
       "      <td>0.885216</td>\n",
       "      <td>8.286125</td>\n",
       "      <td>0.276219</td>\n",
       "      <td>0.465199</td>\n",
       "      <td>0.117645</td>\n",
       "      <td>0.488270</td>\n",
       "      <td>0.114139</td>\n",
       "      <td>0.458913</td>\n",
       "      <td>0.491756</td>\n",
       "    </tr>\n",
       "    <tr>\n",
       "      <th>min</th>\n",
       "      <td>0.000000</td>\n",
       "      <td>2.302585</td>\n",
       "      <td>1.000000</td>\n",
       "      <td>0.000000</td>\n",
       "      <td>0.000000</td>\n",
       "      <td>0.000000</td>\n",
       "      <td>0.000000</td>\n",
       "      <td>37.704743</td>\n",
       "      <td>-122.511500</td>\n",
       "      <td>0.000000</td>\n",
       "      <td>20.000000</td>\n",
       "      <td>0.000000</td>\n",
       "      <td>1.000000</td>\n",
       "      <td>0.000000</td>\n",
       "      <td>0.000000</td>\n",
       "      <td>0.000000</td>\n",
       "      <td>0.000000</td>\n",
       "      <td>0.000000</td>\n",
       "      <td>0.000000</td>\n",
       "      <td>0.000000</td>\n",
       "    </tr>\n",
       "    <tr>\n",
       "      <th>25%</th>\n",
       "      <td>1496.000000</td>\n",
       "      <td>4.691348</td>\n",
       "      <td>2.000000</td>\n",
       "      <td>1.000000</td>\n",
       "      <td>1.000000</td>\n",
       "      <td>0.000000</td>\n",
       "      <td>0.000000</td>\n",
       "      <td>37.752543</td>\n",
       "      <td>-122.442955</td>\n",
       "      <td>1.000000</td>\n",
       "      <td>94.000000</td>\n",
       "      <td>1.000000</td>\n",
       "      <td>13.000000</td>\n",
       "      <td>0.000000</td>\n",
       "      <td>0.000000</td>\n",
       "      <td>0.000000</td>\n",
       "      <td>0.000000</td>\n",
       "      <td>0.000000</td>\n",
       "      <td>0.000000</td>\n",
       "      <td>0.000000</td>\n",
       "    </tr>\n",
       "    <tr>\n",
       "      <th>50%</th>\n",
       "      <td>2992.000000</td>\n",
       "      <td>5.129899</td>\n",
       "      <td>2.000000</td>\n",
       "      <td>1.000000</td>\n",
       "      <td>1.000000</td>\n",
       "      <td>1.000000</td>\n",
       "      <td>0.000000</td>\n",
       "      <td>37.768289</td>\n",
       "      <td>-122.427323</td>\n",
       "      <td>7.000000</td>\n",
       "      <td>97.000000</td>\n",
       "      <td>1.000000</td>\n",
       "      <td>18.000000</td>\n",
       "      <td>0.000000</td>\n",
       "      <td>0.000000</td>\n",
       "      <td>0.000000</td>\n",
       "      <td>0.000000</td>\n",
       "      <td>0.000000</td>\n",
       "      <td>0.000000</td>\n",
       "      <td>0.000000</td>\n",
       "    </tr>\n",
       "    <tr>\n",
       "      <th>75%</th>\n",
       "      <td>4488.000000</td>\n",
       "      <td>5.594711</td>\n",
       "      <td>4.000000</td>\n",
       "      <td>1.500000</td>\n",
       "      <td>1.000000</td>\n",
       "      <td>1.000000</td>\n",
       "      <td>0.000000</td>\n",
       "      <td>37.783309</td>\n",
       "      <td>-122.413823</td>\n",
       "      <td>31.000000</td>\n",
       "      <td>99.000000</td>\n",
       "      <td>2.000000</td>\n",
       "      <td>22.000000</td>\n",
       "      <td>0.000000</td>\n",
       "      <td>1.000000</td>\n",
       "      <td>0.000000</td>\n",
       "      <td>1.000000</td>\n",
       "      <td>0.000000</td>\n",
       "      <td>1.000000</td>\n",
       "      <td>1.000000</td>\n",
       "    </tr>\n",
       "    <tr>\n",
       "      <th>max</th>\n",
       "      <td>5984.000000</td>\n",
       "      <td>7.598399</td>\n",
       "      <td>16.000000</td>\n",
       "      <td>6.500000</td>\n",
       "      <td>1.000000</td>\n",
       "      <td>1.000000</td>\n",
       "      <td>1.000000</td>\n",
       "      <td>37.810306</td>\n",
       "      <td>-122.368733</td>\n",
       "      <td>530.000000</td>\n",
       "      <td>100.000000</td>\n",
       "      <td>9.000000</td>\n",
       "      <td>86.000000</td>\n",
       "      <td>1.000000</td>\n",
       "      <td>1.000000</td>\n",
       "      <td>1.000000</td>\n",
       "      <td>1.000000</td>\n",
       "      <td>1.000000</td>\n",
       "      <td>1.000000</td>\n",
       "      <td>1.000000</td>\n",
       "    </tr>\n",
       "  </tbody>\n",
       "</table>\n",
       "</div>"
      ],
      "text/plain": [
       "             index    log_price  accommodates    bathrooms  cleaning_fee  \\\n",
       "count  5985.000000  5985.000000   5985.000000  5985.000000   5985.000000   \n",
       "mean   2992.000000     5.181716      3.181287     1.266165      0.751044   \n",
       "std    1727.865012     0.680618      1.960433     0.543634      0.432444   \n",
       "min       0.000000     2.302585      1.000000     0.000000      0.000000   \n",
       "25%    1496.000000     4.691348      2.000000     1.000000      1.000000   \n",
       "50%    2992.000000     5.129899      2.000000     1.000000      1.000000   \n",
       "75%    4488.000000     5.594711      4.000000     1.500000      1.000000   \n",
       "max    5984.000000     7.598399     16.000000     6.500000      1.000000   \n",
       "\n",
       "       host_identity_verified  instant_bookable     latitude    longitude  \\\n",
       "count             5985.000000       5985.000000  5985.000000  5985.000000   \n",
       "mean                 0.726149          0.228070    37.766804  -122.431531   \n",
       "std                  0.445971          0.419623     0.021753     0.025494   \n",
       "min                  0.000000          0.000000    37.704743  -122.511500   \n",
       "25%                  0.000000          0.000000    37.752543  -122.442955   \n",
       "50%                  1.000000          0.000000    37.768289  -122.427323   \n",
       "75%                  1.000000          0.000000    37.783309  -122.413823   \n",
       "max                  1.000000          1.000000    37.810306  -122.368733   \n",
       "\n",
       "       number_of_reviews  review_scores_rating     bedrooms  count_amenities  \\\n",
       "count        5985.000000           5985.000000  5985.000000      5985.000000   \n",
       "mean           28.531830             95.546282     1.372598        18.483542   \n",
       "std            51.298569              5.872485     0.885216         8.286125   \n",
       "min             0.000000             20.000000     0.000000         1.000000   \n",
       "25%             1.000000             94.000000     1.000000        13.000000   \n",
       "50%             7.000000             97.000000     1.000000        18.000000   \n",
       "75%            31.000000             99.000000     2.000000        22.000000   \n",
       "max           530.000000            100.000000     9.000000        86.000000   \n",
       "\n",
       "       property_type_Condominium  property_type_House  property_type_Loft  \\\n",
       "count                5985.000000          5985.000000         5985.000000   \n",
       "mean                    0.083208             0.316625            0.014035   \n",
       "std                     0.276219             0.465199            0.117645   \n",
       "min                     0.000000             0.000000            0.000000   \n",
       "25%                     0.000000             0.000000            0.000000   \n",
       "50%                     0.000000             0.000000            0.000000   \n",
       "75%                     0.000000             1.000000            0.000000   \n",
       "max                     1.000000             1.000000            1.000000   \n",
       "\n",
       "       room_type_Private room  room_type_Shared room  \\\n",
       "count             5985.000000            5985.000000   \n",
       "mean                 0.392147               0.013200   \n",
       "std                  0.488270               0.114139   \n",
       "min                  0.000000               0.000000   \n",
       "25%                  0.000000               0.000000   \n",
       "50%                  0.000000               0.000000   \n",
       "75%                  1.000000               0.000000   \n",
       "max                  1.000000               1.000000   \n",
       "\n",
       "       cancellation_policy_moderate  cancellation_policy_strict  \n",
       "count                   5985.000000                 5985.000000  \n",
       "mean                       0.301420                    0.409357  \n",
       "std                        0.458913                    0.491756  \n",
       "min                        0.000000                    0.000000  \n",
       "25%                        0.000000                    0.000000  \n",
       "50%                        0.000000                    0.000000  \n",
       "75%                        1.000000                    1.000000  \n",
       "max                        1.000000                    1.000000  "
      ]
     },
     "execution_count": 22,
     "metadata": {},
     "output_type": "execute_result"
    }
   ],
   "source": [
    "full.describe()"
   ]
  },
  {
   "cell_type": "markdown",
   "metadata": {
    "_cell_guid": "1b84c2ec-d269-4dee-a6dd-8057945deac7",
    "_uuid": "8a2972ef9405ec0bca350ac000d80077dc0e8e5d"
   },
   "source": [
    "### 2.3.5 Some object key information"
   ]
  },
  {
   "cell_type": "code",
   "execution_count": 23,
   "metadata": {
    "_cell_guid": "9a8732e3-a4d4-4b5d-a7b1-75f073bf4742",
    "_uuid": "520b9200c2c9eb8b947c8f8917288fba7f3cd401"
   },
   "outputs": [],
   "source": [
    "# full.describe(include=['O'])"
   ]
  },
  {
   "cell_type": "markdown",
   "metadata": {
    "_cell_guid": "cde23121-f77e-430f-91a1-19d8c7e80dcd",
    "_uuid": "f0aa0a51e99a7a4704d3f623888d78c0315bcaa1"
   },
   "source": [
    "### 2.3.6 The heatmap of correlation"
   ]
  },
  {
   "cell_type": "code",
   "execution_count": 24,
   "metadata": {
    "_cell_guid": "a9bc1390-a070-4e2d-b65d-8ee68f398cae",
    "_uuid": "0e5ef2eede394f9aefd010f465089dc00ac33dee"
   },
   "outputs": [
    {
     "data": {
      "image/png": "[encoded data removed]",
      "text/plain": [
       "<Figure size 864x720 with 2 Axes>"
      ]
     },
     "metadata": {
      "needs_background": "light"
     },
     "output_type": "display_data"
    }
   ],
   "source": [
    "def plot_correlation_map(df):\n",
    "    corr = df.corr()\n",
    "    _ , ax = plt.subplots(figsize=(12, 10))\n",
    "    cmap = sns.diverging_palette(220, 10, as_cmap=True)\n",
    "    _ = sns.heatmap(\n",
    "        corr, \n",
    "        cmap=cmap,\n",
    "        square=True, \n",
    "        cbar_kws={'shrink': .9}, \n",
    "        ax=ax, \n",
    "        annot=True, \n",
    "        annot_kws={'fontsize': 12}\n",
    "    )\n",
    "plot_correlation_map(full)"
   ]
  },
  {
   "cell_type": "markdown",
   "metadata": {
    "_cell_guid": "999c01a3-97f2-448c-8200-3bbf527eb345",
    "_uuid": "69a57317afb51ab37a5ed5ddd9d68df1ba746f82"
   },
   "source": [
    "### 2.3.7 Category or Discrete Variables"
   ]
  },
  {
   "cell_type": "code",
   "execution_count": 25,
   "metadata": {
    "_cell_guid": "072d7cad-0fac-4b7b-8f7d-707d8a411ccb",
    "_uuid": "242d5b41543949ae425181ece3fbbd340e375e62"
   },
   "outputs": [],
   "source": [
    "def plot_categories( df , cat , target , **kwargs ):\n",
    "    row = kwargs.get( 'row' , None )\n",
    "    col = kwargs.get( 'col' , None )\n",
    "    facet = sns.FacetGrid(df, row=row, col=col)\n",
    "    facet.map(sns.barplot, cat, target)\n",
    "    facet.add_legend()"
   ]
  },
  {
   "cell_type": "markdown",
   "metadata": {
    "_cell_guid": "1885bfad-608b-4bbd-b40e-6cae20459cc0",
    "_uuid": "707a5fe9d47d53f9d56919cd7638d0b0b4c8e818"
   },
   "source": [
    "__accommodates__"
   ]
  },
  {
   "cell_type": "code",
   "execution_count": 27,
   "metadata": {
    "_cell_guid": "5adb04a0-a1d2-4ac0-a9fe-af4361321f86",
    "_uuid": "a8a5cf921b9f6fd58434a35cfddac321e2ffdc96"
   },
   "outputs": [
    {
     "data": {
      "text/html": [
       "<div>\n",
       "<style scoped>\n",
       "    .dataframe tbody tr th:only-of-type {\n",
       "        vertical-align: middle;\n",
       "    }\n",
       "\n",
       "    .dataframe tbody tr th {\n",
       "        vertical-align: top;\n",
       "    }\n",
       "\n",
       "    .dataframe thead th {\n",
       "        text-align: right;\n",
       "    }\n",
       "</style>\n",
       "<table border=\"1\" class=\"dataframe\">\n",
       "  <thead>\n",
       "    <tr style=\"text-align: right;\">\n",
       "      <th></th>\n",
       "      <th>accommodates</th>\n",
       "      <th>log_price</th>\n",
       "    </tr>\n",
       "  </thead>\n",
       "  <tbody>\n",
       "    <tr>\n",
       "      <th>12</th>\n",
       "      <td>14</td>\n",
       "      <td>6.551080</td>\n",
       "    </tr>\n",
       "    <tr>\n",
       "      <th>13</th>\n",
       "      <td>15</td>\n",
       "      <td>6.536302</td>\n",
       "    </tr>\n",
       "    <tr>\n",
       "      <th>10</th>\n",
       "      <td>11</td>\n",
       "      <td>6.513996</td>\n",
       "    </tr>\n",
       "    <tr>\n",
       "      <th>9</th>\n",
       "      <td>10</td>\n",
       "      <td>6.458519</td>\n",
       "    </tr>\n",
       "    <tr>\n",
       "      <th>14</th>\n",
       "      <td>16</td>\n",
       "      <td>6.382590</td>\n",
       "    </tr>\n",
       "    <tr>\n",
       "      <th>11</th>\n",
       "      <td>12</td>\n",
       "      <td>6.348629</td>\n",
       "    </tr>\n",
       "    <tr>\n",
       "      <th>8</th>\n",
       "      <td>9</td>\n",
       "      <td>6.223793</td>\n",
       "    </tr>\n",
       "    <tr>\n",
       "      <th>7</th>\n",
       "      <td>8</td>\n",
       "      <td>6.132497</td>\n",
       "    </tr>\n",
       "    <tr>\n",
       "      <th>6</th>\n",
       "      <td>7</td>\n",
       "      <td>5.960581</td>\n",
       "    </tr>\n",
       "    <tr>\n",
       "      <th>5</th>\n",
       "      <td>6</td>\n",
       "      <td>5.853087</td>\n",
       "    </tr>\n",
       "    <tr>\n",
       "      <th>4</th>\n",
       "      <td>5</td>\n",
       "      <td>5.665483</td>\n",
       "    </tr>\n",
       "    <tr>\n",
       "      <th>3</th>\n",
       "      <td>4</td>\n",
       "      <td>5.478690</td>\n",
       "    </tr>\n",
       "    <tr>\n",
       "      <th>2</th>\n",
       "      <td>3</td>\n",
       "      <td>5.156726</td>\n",
       "    </tr>\n",
       "    <tr>\n",
       "      <th>1</th>\n",
       "      <td>2</td>\n",
       "      <td>4.909620</td>\n",
       "    </tr>\n",
       "    <tr>\n",
       "      <th>0</th>\n",
       "      <td>1</td>\n",
       "      <td>4.565965</td>\n",
       "    </tr>\n",
       "  </tbody>\n",
       "</table>\n",
       "</div>"
      ],
      "text/plain": [
       "    accommodates  log_price\n",
       "12            14   6.551080\n",
       "13            15   6.536302\n",
       "10            11   6.513996\n",
       "9             10   6.458519\n",
       "14            16   6.382590\n",
       "11            12   6.348629\n",
       "8              9   6.223793\n",
       "7              8   6.132497\n",
       "6              7   5.960581\n",
       "5              6   5.853087\n",
       "4              5   5.665483\n",
       "3              4   5.478690\n",
       "2              3   5.156726\n",
       "1              2   4.909620\n",
       "0              1   4.565965"
      ]
     },
     "execution_count": 27,
     "metadata": {},
     "output_type": "execute_result"
    },
    {
     "data": {
      "image/png": "[encoded data removed]",
      "text/plain": [
       "<Figure size 224x216 with 1 Axes>"
      ]
     },
     "metadata": {
      "needs_background": "light"
     },
     "output_type": "display_data"
    }
   ],
   "source": [
    "plot_categories(full, cat='accommodates', target='log_price')\n",
    "full[['accommodates', 'log_price']].groupby(['accommodates'], as_index=False).mean().sort_values(by='log_price', ascending=False)\n"
   ]
  },
  {
   "cell_type": "markdown",
   "metadata": {
    "_cell_guid": "60b2717d-67dc-43cc-97c2-120ce7241743",
    "_uuid": "8c7bebf5aeada22b68aca01c09d643466e60161f"
   },
   "source": [
    "__bathrooms__"
   ]
  },
  {
   "cell_type": "code",
   "execution_count": 29,
   "metadata": {
    "_cell_guid": "afa10516-9873-4c47-8130-53c6d8d2d5a9",
    "_uuid": "dbfb548c2996e8f22e540b89d20781b004ee58ef"
   },
   "outputs": [
    {
     "data": {
      "text/html": [
       "<div>\n",
       "<style scoped>\n",
       "    .dataframe tbody tr th:only-of-type {\n",
       "        vertical-align: middle;\n",
       "    }\n",
       "\n",
       "    .dataframe tbody tr th {\n",
       "        vertical-align: top;\n",
       "    }\n",
       "\n",
       "    .dataframe thead th {\n",
       "        text-align: right;\n",
       "    }\n",
       "</style>\n",
       "<table border=\"1\" class=\"dataframe\">\n",
       "  <thead>\n",
       "    <tr style=\"text-align: right;\">\n",
       "      <th></th>\n",
       "      <th>bathrooms</th>\n",
       "      <th>log_price</th>\n",
       "    </tr>\n",
       "  </thead>\n",
       "  <tbody>\n",
       "    <tr>\n",
       "      <th>9</th>\n",
       "      <td>4.5</td>\n",
       "      <td>6.232917</td>\n",
       "    </tr>\n",
       "    <tr>\n",
       "      <th>7</th>\n",
       "      <td>3.5</td>\n",
       "      <td>6.186974</td>\n",
       "    </tr>\n",
       "    <tr>\n",
       "      <th>6</th>\n",
       "      <td>3.0</td>\n",
       "      <td>6.017105</td>\n",
       "    </tr>\n",
       "    <tr>\n",
       "      <th>5</th>\n",
       "      <td>2.5</td>\n",
       "      <td>5.977972</td>\n",
       "    </tr>\n",
       "    <tr>\n",
       "      <th>10</th>\n",
       "      <td>5.0</td>\n",
       "      <td>5.811338</td>\n",
       "    </tr>\n",
       "    <tr>\n",
       "      <th>8</th>\n",
       "      <td>4.0</td>\n",
       "      <td>5.688455</td>\n",
       "    </tr>\n",
       "    <tr>\n",
       "      <th>4</th>\n",
       "      <td>2.0</td>\n",
       "      <td>5.618190</td>\n",
       "    </tr>\n",
       "    <tr>\n",
       "      <th>3</th>\n",
       "      <td>1.5</td>\n",
       "      <td>5.229147</td>\n",
       "    </tr>\n",
       "    <tr>\n",
       "      <th>2</th>\n",
       "      <td>1.0</td>\n",
       "      <td>5.044598</td>\n",
       "    </tr>\n",
       "    <tr>\n",
       "      <th>1</th>\n",
       "      <td>0.5</td>\n",
       "      <td>4.586850</td>\n",
       "    </tr>\n",
       "    <tr>\n",
       "      <th>0</th>\n",
       "      <td>0.0</td>\n",
       "      <td>4.506618</td>\n",
       "    </tr>\n",
       "    <tr>\n",
       "      <th>11</th>\n",
       "      <td>6.5</td>\n",
       "      <td>4.174387</td>\n",
       "    </tr>\n",
       "  </tbody>\n",
       "</table>\n",
       "</div>"
      ],
      "text/plain": [
       "    bathrooms  log_price\n",
       "9         4.5   6.232917\n",
       "7         3.5   6.186974\n",
       "6         3.0   6.017105\n",
       "5         2.5   5.977972\n",
       "10        5.0   5.811338\n",
       "8         4.0   5.688455\n",
       "4         2.0   5.618190\n",
       "3         1.5   5.229147\n",
       "2         1.0   5.044598\n",
       "1         0.5   4.586850\n",
       "0         0.0   4.506618\n",
       "11        6.5   4.174387"
      ]
     },
     "execution_count": 29,
     "metadata": {},
     "output_type": "execute_result"
    },
    {
     "data": {
      "image/png": "[encoded data removed]",
      "text/plain": [
       "<Figure size 224x216 with 1 Axes>"
      ]
     },
     "metadata": {
      "needs_background": "light"
     },
     "output_type": "display_data"
    }
   ],
   "source": [
    "plot_categories(full, cat='bathrooms', target='log_price')\n",
    "full[['bathrooms', 'log_price']].groupby(['bathrooms'], as_index=False).mean().sort_values(by='log_price', ascending=False)\n"
   ]
  },
  {
   "cell_type": "markdown",
   "metadata": {
    "_cell_guid": "961be31b-46ed-4484-8b3e-76a65ec8fab8",
    "_uuid": "24c4946823f585cef5b62fcd6bf462a6c7deba6e"
   },
   "source": [
    "__bedrooms__"
   ]
  },
  {
   "cell_type": "code",
   "execution_count": 30,
   "metadata": {
    "_cell_guid": "695ec3b7-fa54-478c-a5eb-98e8c67b4251",
    "_uuid": "82b2158022432c0a1df0e835b2c92717e27c2416"
   },
   "outputs": [
    {
     "data": {
      "text/html": [
       "<div>\n",
       "<style scoped>\n",
       "    .dataframe tbody tr th:only-of-type {\n",
       "        vertical-align: middle;\n",
       "    }\n",
       "\n",
       "    .dataframe tbody tr th {\n",
       "        vertical-align: top;\n",
       "    }\n",
       "\n",
       "    .dataframe thead th {\n",
       "        text-align: right;\n",
       "    }\n",
       "</style>\n",
       "<table border=\"1\" class=\"dataframe\">\n",
       "  <thead>\n",
       "    <tr style=\"text-align: right;\">\n",
       "      <th></th>\n",
       "      <th>bedrooms</th>\n",
       "      <th>log_price</th>\n",
       "    </tr>\n",
       "  </thead>\n",
       "  <tbody>\n",
       "    <tr>\n",
       "      <th>7</th>\n",
       "      <td>9.0</td>\n",
       "      <td>7.377759</td>\n",
       "    </tr>\n",
       "    <tr>\n",
       "      <th>6</th>\n",
       "      <td>6.0</td>\n",
       "      <td>6.790919</td>\n",
       "    </tr>\n",
       "    <tr>\n",
       "      <th>4</th>\n",
       "      <td>4.0</td>\n",
       "      <td>6.330405</td>\n",
       "    </tr>\n",
       "    <tr>\n",
       "      <th>5</th>\n",
       "      <td>5.0</td>\n",
       "      <td>6.141518</td>\n",
       "    </tr>\n",
       "    <tr>\n",
       "      <th>3</th>\n",
       "      <td>3.0</td>\n",
       "      <td>5.984163</td>\n",
       "    </tr>\n",
       "    <tr>\n",
       "      <th>2</th>\n",
       "      <td>2.0</td>\n",
       "      <td>5.605887</td>\n",
       "    </tr>\n",
       "    <tr>\n",
       "      <th>0</th>\n",
       "      <td>0.0</td>\n",
       "      <td>5.096784</td>\n",
       "    </tr>\n",
       "    <tr>\n",
       "      <th>1</th>\n",
       "      <td>1.0</td>\n",
       "      <td>4.896746</td>\n",
       "    </tr>\n",
       "  </tbody>\n",
       "</table>\n",
       "</div>"
      ],
      "text/plain": [
       "   bedrooms  log_price\n",
       "7       9.0   7.377759\n",
       "6       6.0   6.790919\n",
       "4       4.0   6.330405\n",
       "5       5.0   6.141518\n",
       "3       3.0   5.984163\n",
       "2       2.0   5.605887\n",
       "0       0.0   5.096784\n",
       "1       1.0   4.896746"
      ]
     },
     "execution_count": 30,
     "metadata": {},
     "output_type": "execute_result"
    },
    {
     "data": {
      "image/png": "[encoded data removed]",
      "text/plain": [
       "<Figure size 224x216 with 1 Axes>"
      ]
     },
     "metadata": {
      "needs_background": "light"
     },
     "output_type": "display_data"
    }
   ],
   "source": [
    "plot_categories(full, cat='bedrooms', target='log_price')\n",
    "full[['bedrooms', 'log_price']].groupby(['bedrooms'], as_index=False).mean().sort_values(by='log_price', ascending=False)\n"
   ]
  },
  {
   "cell_type": "markdown",
   "metadata": {
    "_cell_guid": "2261e8ac-387e-4f70-b29e-fc6ad4bde015",
    "_uuid": "f785176d221a1edf62073029223be386f7ab6413"
   },
   "source": [
    "__room_type_Private room__"
   ]
  },
  {
   "cell_type": "code",
   "execution_count": 31,
   "metadata": {
    "_cell_guid": "0c7ef4b9-95ef-4da7-a66d-165a42212b5d",
    "_uuid": "bea81c10e75013e2617a3e6cef501a5266b9ac31"
   },
   "outputs": [
    {
     "data": {
      "text/html": [
       "<div>\n",
       "<style scoped>\n",
       "    .dataframe tbody tr th:only-of-type {\n",
       "        vertical-align: middle;\n",
       "    }\n",
       "\n",
       "    .dataframe tbody tr th {\n",
       "        vertical-align: top;\n",
       "    }\n",
       "\n",
       "    .dataframe thead th {\n",
       "        text-align: right;\n",
       "    }\n",
       "</style>\n",
       "<table border=\"1\" class=\"dataframe\">\n",
       "  <thead>\n",
       "    <tr style=\"text-align: right;\">\n",
       "      <th></th>\n",
       "      <th>room_type_Private room</th>\n",
       "      <th>log_price</th>\n",
       "    </tr>\n",
       "  </thead>\n",
       "  <tbody>\n",
       "    <tr>\n",
       "      <th>0</th>\n",
       "      <td>0</td>\n",
       "      <td>5.486305</td>\n",
       "    </tr>\n",
       "    <tr>\n",
       "      <th>1</th>\n",
       "      <td>1</td>\n",
       "      <td>4.709582</td>\n",
       "    </tr>\n",
       "  </tbody>\n",
       "</table>\n",
       "</div>"
      ],
      "text/plain": [
       "   room_type_Private room  log_price\n",
       "0                       0   5.486305\n",
       "1                       1   4.709582"
      ]
     },
     "execution_count": 31,
     "metadata": {},
     "output_type": "execute_result"
    },
    {
     "data": {
      "image/png": "[encoded data removed]",
      "text/plain": [
       "<Figure size 224x216 with 1 Axes>"
      ]
     },
     "metadata": {
      "needs_background": "light"
     },
     "output_type": "display_data"
    }
   ],
   "source": [
    "plot_categories(full, cat='room_type_Private room', target='log_price')\n",
    "full[['room_type_Private room', 'log_price']].groupby(['room_type_Private room'], as_index=False).mean().sort_values(by='log_price', ascending=False)\n"
   ]
  },
  {
   "cell_type": "markdown",
   "metadata": {
    "_cell_guid": "d9eed822-374a-47d9-8dcb-be46bae3c195",
    "_uuid": "15e39c39d2a18a67de38a99e5d807fc7f960808c"
   },
   "source": [
    "__room_type_Shared room__"
   ]
  },
  {
   "cell_type": "code",
   "execution_count": 33,
   "metadata": {
    "_cell_guid": "569320a1-de59-4134-9c19-2c60a2406fe3",
    "_uuid": "291901164021af22d5f036f983af10c9be858d9f"
   },
   "outputs": [
    {
     "data": {
      "text/html": [
       "<div>\n",
       "<style scoped>\n",
       "    .dataframe tbody tr th:only-of-type {\n",
       "        vertical-align: middle;\n",
       "    }\n",
       "\n",
       "    .dataframe tbody tr th {\n",
       "        vertical-align: top;\n",
       "    }\n",
       "\n",
       "    .dataframe thead th {\n",
       "        text-align: right;\n",
       "    }\n",
       "</style>\n",
       "<table border=\"1\" class=\"dataframe\">\n",
       "  <thead>\n",
       "    <tr style=\"text-align: right;\">\n",
       "      <th></th>\n",
       "      <th>room_type_Shared room</th>\n",
       "      <th>log_price</th>\n",
       "    </tr>\n",
       "  </thead>\n",
       "  <tbody>\n",
       "    <tr>\n",
       "      <th>0</th>\n",
       "      <td>0</td>\n",
       "      <td>5.194439</td>\n",
       "    </tr>\n",
       "    <tr>\n",
       "      <th>1</th>\n",
       "      <td>1</td>\n",
       "      <td>4.230525</td>\n",
       "    </tr>\n",
       "  </tbody>\n",
       "</table>\n",
       "</div>"
      ],
      "text/plain": [
       "   room_type_Shared room  log_price\n",
       "0                      0   5.194439\n",
       "1                      1   4.230525"
      ]
     },
     "execution_count": 33,
     "metadata": {},
     "output_type": "execute_result"
    },
    {
     "data": {
      "image/png": "[encoded data removed]",
      "text/plain": [
       "<Figure size 224x216 with 1 Axes>"
      ]
     },
     "metadata": {
      "needs_background": "light"
     },
     "output_type": "display_data"
    }
   ],
   "source": [
    "plot_categories(full, cat='room_type_Shared room', target='log_price')\n",
    "full[['room_type_Shared room', 'log_price']].groupby(['room_type_Shared room'], as_index=False).mean().sort_values(by='log_price', ascending=False)\n"
   ]
  },
  {
   "cell_type": "markdown",
   "metadata": {
    "_cell_guid": "06ba1ddf-a905-4922-b242-5df3c020ba9a",
    "_uuid": "4b66bbd181c82d03a247ae4db2bebeb8d3babfba"
   },
   "source": [
    "## 2.4 Data quality check"
   ]
  },
  {
   "cell_type": "markdown",
   "metadata": {
    "_cell_guid": "b2cb859d-9c77-4e26-9cee-96d82a29c713",
    "_uuid": "6532b036181594fd150c4b023bb0cce6b1b603c8"
   },
   "source": [
    "### 2.4.1 Check Duplicate\n",
    "Based on 2.3.5\n",
    "There is not duplicate."
   ]
  },
  {
   "cell_type": "markdown",
   "metadata": {
    "_cell_guid": "9ae4548f-772b-4b47-ae18-d0d8b85bf95e",
    "_uuid": "684013b550a6c203ef54fc14b8a341b51a9cdbf6"
   },
   "source": [
    "### 2.4.2 check missing value"
   ]
  },
  {
   "cell_type": "markdown",
   "metadata": {
    "_cell_guid": "678fa51d-7b3f-447e-8ae4-c816ed65b929",
    "_uuid": "e6deceefb53d96661abde738b3602031c25943c3"
   },
   "source": [
    "no missing value.\n"
   ]
  },
  {
   "cell_type": "code",
   "execution_count": 34,
   "metadata": {
    "_cell_guid": "30bc326e-c9ea-4017-95d9-8d0900a27f7e",
    "_uuid": "0d07fe67e3aaa608d3acc71c6c5c3e7ba7254230"
   },
   "outputs": [
    {
     "data": {
      "text/plain": [
       "index                           0\n",
       "log_price                       0\n",
       "accommodates                    0\n",
       "bathrooms                       0\n",
       "cleaning_fee                    0\n",
       "host_identity_verified          0\n",
       "instant_bookable                0\n",
       "latitude                        0\n",
       "longitude                       0\n",
       "number_of_reviews               0\n",
       "review_scores_rating            0\n",
       "bedrooms                        0\n",
       "count_amenities                 0\n",
       "property_type_Condominium       0\n",
       "property_type_House             0\n",
       "property_type_Loft              0\n",
       "room_type_Private room          0\n",
       "room_type_Shared room           0\n",
       "cancellation_policy_moderate    0\n",
       "cancellation_policy_strict      0\n",
       "dtype: int64"
      ]
     },
     "execution_count": 34,
     "metadata": {},
     "output_type": "execute_result"
    }
   ],
   "source": [
    "full.isnull().sum()"
   ]
  },
  {
   "cell_type": "markdown",
   "metadata": {
    "_cell_guid": "1433ad8f-3a34-41d6-bbfe-5847a02328f8",
    "_uuid": "68bc4c362eae92b1c260d2080576dbdbb064e3be"
   },
   "source": [
    "### 2.4.2 check outiler"
   ]
  },
  {
   "cell_type": "markdown",
   "metadata": {
    "_cell_guid": "ef32c130-9295-4154-bc24-611e5df97040",
    "_uuid": "a296002c7abb7ded2074b4fc209ef71126b2e929"
   },
   "source": [
    "a lot of outlier."
   ]
  },
  {
   "cell_type": "code",
   "execution_count": 37,
   "metadata": {
    "_cell_guid": "aa0b789a-3422-4608-83d1-f1bdf03933b4",
    "_uuid": "15198f0d46ceb1cfdfeaf0e804a95dbfd07df648"
   },
   "outputs": [
    {
     "data": {
      "text/plain": [
       "[5,\n",
       " 36,\n",
       " 43,\n",
       " 62,\n",
       " 64,\n",
       " 118,\n",
       " 149,\n",
       " 159,\n",
       " 179,\n",
       " 192,\n",
       " 205,\n",
       " 223,\n",
       " 226,\n",
       " 237,\n",
       " 238,\n",
       " 242,\n",
       " 340,\n",
       " 348,\n",
       " 365,\n",
       " 379,\n",
       " 392,\n",
       " 414,\n",
       " 429,\n",
       " 438,\n",
       " 444,\n",
       " 447,\n",
       " 474,\n",
       " 494,\n",
       " 498,\n",
       " 504,\n",
       " 528,\n",
       " 551,\n",
       " 565,\n",
       " 574,\n",
       " 625,\n",
       " 629,\n",
       " 668,\n",
       " 683,\n",
       " 686,\n",
       " 725,\n",
       " 727,\n",
       " 786,\n",
       " 802,\n",
       " 813,\n",
       " 832,\n",
       " 905,\n",
       " 910,\n",
       " 957,\n",
       " 990,\n",
       " 1000,\n",
       " 1002,\n",
       " 1064,\n",
       " 1081,\n",
       " 1108,\n",
       " 1118,\n",
       " 1142,\n",
       " 1152,\n",
       " 1213,\n",
       " 1233,\n",
       " 1241,\n",
       " 1269,\n",
       " 1273,\n",
       " 1341,\n",
       " 1349,\n",
       " 1353,\n",
       " 1356,\n",
       " 1444,\n",
       " 1454,\n",
       " 1477,\n",
       " 1507,\n",
       " 1511,\n",
       " 1517,\n",
       " 1532,\n",
       " 1534,\n",
       " 1568,\n",
       " 1570,\n",
       " 1621,\n",
       " 1643,\n",
       " 1664,\n",
       " 1671,\n",
       " 1687,\n",
       " 1705,\n",
       " 1721,\n",
       " 1724,\n",
       " 1737,\n",
       " 1762,\n",
       " 1786,\n",
       " 1792,\n",
       " 1810,\n",
       " 1825,\n",
       " 1831,\n",
       " 1857,\n",
       " 1867,\n",
       " 1871,\n",
       " 1913,\n",
       " 1916,\n",
       " 1921,\n",
       " 1922,\n",
       " 1934,\n",
       " 1950,\n",
       " 1959,\n",
       " 2011,\n",
       " 2024,\n",
       " 2028,\n",
       " 2047,\n",
       " 2055,\n",
       " 2073,\n",
       " 2074,\n",
       " 2123,\n",
       " 2124,\n",
       " 2182,\n",
       " 2202,\n",
       " 2210,\n",
       " 2222,\n",
       " 2262,\n",
       " 2263,\n",
       " 2273,\n",
       " 2274,\n",
       " 2276,\n",
       " 2278,\n",
       " 2288,\n",
       " 2316,\n",
       " 2340,\n",
       " 2355,\n",
       " 2358,\n",
       " 2363,\n",
       " 2365,\n",
       " 2393,\n",
       " 2413,\n",
       " 2431,\n",
       " 2446,\n",
       " 2473,\n",
       " 2486,\n",
       " 2513,\n",
       " 2521,\n",
       " 2530,\n",
       " 2552,\n",
       " 2665,\n",
       " 2671,\n",
       " 2678,\n",
       " 2729,\n",
       " 2730,\n",
       " 2744,\n",
       " 2753,\n",
       " 2820,\n",
       " 2828,\n",
       " 2838,\n",
       " 2848,\n",
       " 2849,\n",
       " 2854,\n",
       " 2888,\n",
       " 2901,\n",
       " 2923,\n",
       " 2945,\n",
       " 2954,\n",
       " 2954,\n",
       " 3024,\n",
       " 3036,\n",
       " 3057,\n",
       " 3087,\n",
       " 3088,\n",
       " 3092,\n",
       " 3094,\n",
       " 3126,\n",
       " 3129,\n",
       " 3174,\n",
       " 3176,\n",
       " 3240,\n",
       " 3256,\n",
       " 3304,\n",
       " 3307,\n",
       " 3354,\n",
       " 3364,\n",
       " 3392,\n",
       " 3430,\n",
       " 3446,\n",
       " 3479,\n",
       " 3514,\n",
       " 3516,\n",
       " 3532,\n",
       " 3542,\n",
       " 3591,\n",
       " 3631,\n",
       " 3640,\n",
       " 3665,\n",
       " 3670,\n",
       " 3678,\n",
       " 3681,\n",
       " 3685,\n",
       " 3692,\n",
       " 3750,\n",
       " 3770,\n",
       " 3774,\n",
       " 3786,\n",
       " 3793,\n",
       " 3833,\n",
       " 3859,\n",
       " 3907,\n",
       " 3930,\n",
       " 3932,\n",
       " 3942,\n",
       " 3966,\n",
       " 4004,\n",
       " 4020,\n",
       " 4025,\n",
       " 4029,\n",
       " 4068,\n",
       " 4074,\n",
       " 4080,\n",
       " 4088,\n",
       " 4106,\n",
       " 4108,\n",
       " 4166,\n",
       " 4185,\n",
       " 4212,\n",
       " 4244,\n",
       " 4261,\n",
       " 4266,\n",
       " 4295,\n",
       " 4334,\n",
       " 4342,\n",
       " 4348,\n",
       " 4365,\n",
       " 4371,\n",
       " 4408,\n",
       " 4410,\n",
       " 4419,\n",
       " 4420,\n",
       " 4446,\n",
       " 4464,\n",
       " 4473,\n",
       " 4474,\n",
       " 4487,\n",
       " 4500,\n",
       " 4524,\n",
       " 4532,\n",
       " 4534,\n",
       " 4536,\n",
       " 4537,\n",
       " 4563,\n",
       " 4583,\n",
       " 4586,\n",
       " 4591,\n",
       " 4642,\n",
       " 4653,\n",
       " 4654,\n",
       " 4662,\n",
       " 4671,\n",
       " 4675,\n",
       " 4694,\n",
       " 4718,\n",
       " 4719,\n",
       " 4739,\n",
       " 4751,\n",
       " 4757,\n",
       " 4787,\n",
       " 4802,\n",
       " 4814,\n",
       " 4839,\n",
       " 4843,\n",
       " 4860,\n",
       " 4874,\n",
       " 4879,\n",
       " 4910,\n",
       " 4973,\n",
       " 4993,\n",
       " 5028,\n",
       " 5043,\n",
       " 5049,\n",
       " 5057,\n",
       " 5096,\n",
       " 5104,\n",
       " 5112,\n",
       " 5126,\n",
       " 5149,\n",
       " 5169,\n",
       " 5179,\n",
       " 5181,\n",
       " 5208,\n",
       " 5246,\n",
       " 5247,\n",
       " 5269,\n",
       " 5279,\n",
       " 5331,\n",
       " 5352,\n",
       " 5361,\n",
       " 5390,\n",
       " 5418,\n",
       " 5435,\n",
       " 5455,\n",
       " 5468,\n",
       " 5482,\n",
       " 5483,\n",
       " 5531,\n",
       " 5537,\n",
       " 5538,\n",
       " 5544,\n",
       " 5572,\n",
       " 5584,\n",
       " 5604,\n",
       " 5609,\n",
       " 5614,\n",
       " 5618,\n",
       " 5667,\n",
       " 5690,\n",
       " 5721,\n",
       " 5740,\n",
       " 5762,\n",
       " 5775,\n",
       " 5778,\n",
       " 5787,\n",
       " 5801,\n",
       " 5802,\n",
       " 5818,\n",
       " 5821,\n",
       " 5833,\n",
       " 5837,\n",
       " 5840,\n",
       " 5848,\n",
       " 5874,\n",
       " 5882,\n",
       " 5900,\n",
       " 5906,\n",
       " 5907,\n",
       " 5916]"
      ]
     },
     "execution_count": 37,
     "metadata": {},
     "output_type": "execute_result"
    }
   ],
   "source": [
    "def outlier_calculate(col):\n",
    "    c = 0.67448975019608171\n",
    "    thresh = 3.5\n",
    "    median = np.median(col)\n",
    "    diff = np.abs(col - median)\n",
    "    mad = np.median(diff)\n",
    "    z_score = c * diff / mad\n",
    "    return list(np.where(z_score > thresh)[0])\n",
    "\n",
    "cols_check = full[['accommodates', 'bathrooms', 'bedrooms', 'room_type_Private room', 'room_type_Shared room']]\n",
    "outlier_calculate(cols_check)"
   ]
  },
  {
   "cell_type": "markdown",
   "metadata": {
    "_cell_guid": "235a5e40-7b82-4845-8dcd-24854d76b6cf",
    "_uuid": "3ba2cfa116af5b96a90b9171281ff0043de8b369"
   },
   "source": [
    "## Assumtions\n",
    "\n",
    "Based on what we have done before. We summary some assumtions based on seven goals. \n",
    "\n",
    "__Classifying__.\n",
    "\n",
    "__Correlating__.\n",
    "\n",
    "__Converting__.\n",
    "1. Categorical variables need to be transformed to numeric variables\n",
    "\n",
    "\n",
    "__Completing__. \n",
    "1. accommodates is the good feature,  but normilzed.\n",
    "2. bathrooms is the good feature, but normilzed.\n",
    "3. bedrooms is the good feature,  but normilzed.\n",
    "\n",
    "__Correcting__.\n",
    "1. \n",
    "\n",
    "\n",
    "__Creating__.\n",
    "1. \n",
    "\n",
    "__Charting__. "
   ]
  },
  {
   "cell_type": "markdown",
   "metadata": {
    "_cell_guid": "ec9efe4e-7567-450b-8e80-b0f99ce8163c",
    "_uuid": "4ee1f6939f4ff30d98776631111b8f52de2ad63c"
   },
   "source": [
    "# 3. Data Preparation\n",
    "## 3.1 Categorical variables need to be transformed to numeric variables\n",
    "No need"
   ]
  },
  {
   "cell_type": "markdown",
   "metadata": {
    "_cell_guid": "41e283af-c4b9-471a-b201-601c5ce2b779",
    "_uuid": "a88218f0689528637939002aa748e0be10f6fadb"
   },
   "source": [
    "## 3.2 Fill missing values in variables\n",
    "No need"
   ]
  },
  {
   "cell_type": "markdown",
   "metadata": {
    "_cell_guid": "91b0418f-33dc-48b4-a802-082b4516ea7c",
    "_uuid": "9b94ce53740aaf3a7a43e72d79033fdd17a2ec88"
   },
   "source": [
    "## 3.3 Feature Engineering – Creating new variables\n",
    "No need"
   ]
  },
  {
   "cell_type": "markdown",
   "metadata": {},
   "source": [
    "## 3.4 Normalize"
   ]
  },
  {
   "cell_type": "code",
   "execution_count": 38,
   "metadata": {},
   "outputs": [
    {
     "data": {
      "text/plain": [
       "Index(['index', 'log_price', 'accommodates', 'bathrooms', 'cleaning_fee',\n",
       "       'host_identity_verified', 'instant_bookable', 'latitude', 'longitude',\n",
       "       'number_of_reviews', 'review_scores_rating', 'bedrooms',\n",
       "       'count_amenities', 'property_type_Condominium', 'property_type_House',\n",
       "       'property_type_Loft', 'room_type_Private room', 'room_type_Shared room',\n",
       "       'cancellation_policy_moderate', 'cancellation_policy_strict'],\n",
       "      dtype='object')"
      ]
     },
     "execution_count": 38,
     "metadata": {},
     "output_type": "execute_result"
    }
   ],
   "source": [
    "full.columns"
   ]
  },
  {
   "cell_type": "code",
   "execution_count": 43,
   "metadata": {},
   "outputs": [
    {
     "data": {
      "text/html": [
       "<div>\n",
       "<style scoped>\n",
       "    .dataframe tbody tr th:only-of-type {\n",
       "        vertical-align: middle;\n",
       "    }\n",
       "\n",
       "    .dataframe tbody tr th {\n",
       "        vertical-align: top;\n",
       "    }\n",
       "\n",
       "    .dataframe thead th {\n",
       "        text-align: right;\n",
       "    }\n",
       "</style>\n",
       "<table border=\"1\" class=\"dataframe\">\n",
       "  <thead>\n",
       "    <tr style=\"text-align: right;\">\n",
       "      <th></th>\n",
       "      <th>accommodates_norm</th>\n",
       "      <th>bathrooms_norm</th>\n",
       "      <th>number_of_reviews_norm</th>\n",
       "      <th>review_scores_rating_norm</th>\n",
       "      <th>bedrooms_norm</th>\n",
       "      <th>count_amenities_norm</th>\n",
       "    </tr>\n",
       "  </thead>\n",
       "  <tbody>\n",
       "    <tr>\n",
       "      <th>0</th>\n",
       "      <td>0.040708</td>\n",
       "      <td>0.010177</td>\n",
       "      <td>0.000000</td>\n",
       "      <td>0.987178</td>\n",
       "      <td>0.020354</td>\n",
       "      <td>0.152656</td>\n",
       "    </tr>\n",
       "    <tr>\n",
       "      <th>1</th>\n",
       "      <td>0.019886</td>\n",
       "      <td>0.009943</td>\n",
       "      <td>0.029829</td>\n",
       "      <td>0.994299</td>\n",
       "      <td>0.009943</td>\n",
       "      <td>0.099430</td>\n",
       "    </tr>\n",
       "    <tr>\n",
       "      <th>2</th>\n",
       "      <td>0.010611</td>\n",
       "      <td>0.005305</td>\n",
       "      <td>0.843540</td>\n",
       "      <td>0.525223</td>\n",
       "      <td>0.005305</td>\n",
       "      <td>0.111411</td>\n",
       "    </tr>\n",
       "    <tr>\n",
       "      <th>3</th>\n",
       "      <td>0.011734</td>\n",
       "      <td>0.005867</td>\n",
       "      <td>0.809666</td>\n",
       "      <td>0.563246</td>\n",
       "      <td>0.005867</td>\n",
       "      <td>0.164280</td>\n",
       "    </tr>\n",
       "    <tr>\n",
       "      <th>4</th>\n",
       "      <td>0.060066</td>\n",
       "      <td>0.020022</td>\n",
       "      <td>0.180198</td>\n",
       "      <td>0.971069</td>\n",
       "      <td>0.030033</td>\n",
       "      <td>0.140154</td>\n",
       "    </tr>\n",
       "  </tbody>\n",
       "</table>\n",
       "</div>"
      ],
      "text/plain": [
       "   accommodates_norm  bathrooms_norm  number_of_reviews_norm  \\\n",
       "0           0.040708        0.010177                0.000000   \n",
       "1           0.019886        0.009943                0.029829   \n",
       "2           0.010611        0.005305                0.843540   \n",
       "3           0.011734        0.005867                0.809666   \n",
       "4           0.060066        0.020022                0.180198   \n",
       "\n",
       "   review_scores_rating_norm  bedrooms_norm  count_amenities_norm  \n",
       "0                   0.987178       0.020354              0.152656  \n",
       "1                   0.994299       0.009943              0.099430  \n",
       "2                   0.525223       0.005305              0.111411  \n",
       "3                   0.563246       0.005867              0.164280  \n",
       "4                   0.971069       0.030033              0.140154  "
      ]
     },
     "execution_count": 43,
     "metadata": {},
     "output_type": "execute_result"
    }
   ],
   "source": [
    "from sklearn import preprocessing\n",
    "names = ['accommodates', 'bathrooms', 'number_of_reviews', \n",
    "         'review_scores_rating', 'bedrooms', 'count_amenities']\n",
    "names_norm = ['accommodates_norm', 'bathrooms_norm', 'number_of_reviews_norm', \n",
    "         'review_scores_rating_norm', 'bedrooms_norm', 'count_amenities_norm']\n",
    "d = preprocessing.normalize(full[names])\n",
    "scaled_df = pd.DataFrame(d, columns=names_norm)\n",
    "scaled_df.head()"
   ]
  },
  {
   "cell_type": "markdown",
   "metadata": {
    "_cell_guid": "36359016-6f98-4a1a-8a2b-d58acbcae68b",
    "_uuid": "d5a462666f53b30bd407a4d33291ffcf3a390443"
   },
   "source": [
    "## 3.4 Assemble final datasets for modelling"
   ]
  },
  {
   "cell_type": "markdown",
   "metadata": {
    "_cell_guid": "d9ae37a8-6016-44c6-9b09-bf109c043205",
    "_uuid": "99b04d2ab2c8f3d3686f023023ffde5156fb3347"
   },
   "source": [
    "### 3.4.1 Variable selection\n",
    "Select which features/variables to inculde in the dataset from the list below:"
   ]
  },
  {
   "cell_type": "code",
   "execution_count": 44,
   "metadata": {},
   "outputs": [
    {
     "data": {
      "text/html": [
       "<div>\n",
       "<style scoped>\n",
       "    .dataframe tbody tr th:only-of-type {\n",
       "        vertical-align: middle;\n",
       "    }\n",
       "\n",
       "    .dataframe tbody tr th {\n",
       "        vertical-align: top;\n",
       "    }\n",
       "\n",
       "    .dataframe thead th {\n",
       "        text-align: right;\n",
       "    }\n",
       "</style>\n",
       "<table border=\"1\" class=\"dataframe\">\n",
       "  <thead>\n",
       "    <tr style=\"text-align: right;\">\n",
       "      <th></th>\n",
       "      <th>index</th>\n",
       "      <th>log_price</th>\n",
       "      <th>accommodates</th>\n",
       "      <th>bathrooms</th>\n",
       "      <th>cleaning_fee</th>\n",
       "      <th>host_identity_verified</th>\n",
       "      <th>instant_bookable</th>\n",
       "      <th>latitude</th>\n",
       "      <th>longitude</th>\n",
       "      <th>number_of_reviews</th>\n",
       "      <th>...</th>\n",
       "      <th>room_type_Private room</th>\n",
       "      <th>room_type_Shared room</th>\n",
       "      <th>cancellation_policy_moderate</th>\n",
       "      <th>cancellation_policy_strict</th>\n",
       "      <th>accommodates_norm</th>\n",
       "      <th>bathrooms_norm</th>\n",
       "      <th>number_of_reviews_norm</th>\n",
       "      <th>review_scores_rating_norm</th>\n",
       "      <th>bedrooms_norm</th>\n",
       "      <th>count_amenities_norm</th>\n",
       "    </tr>\n",
       "  </thead>\n",
       "  <tbody>\n",
       "    <tr>\n",
       "      <th>0</th>\n",
       "      <td>0</td>\n",
       "      <td>6.620073</td>\n",
       "      <td>4</td>\n",
       "      <td>1.0</td>\n",
       "      <td>1</td>\n",
       "      <td>1</td>\n",
       "      <td>0</td>\n",
       "      <td>37.772004</td>\n",
       "      <td>-122.431619</td>\n",
       "      <td>0</td>\n",
       "      <td>...</td>\n",
       "      <td>0</td>\n",
       "      <td>0</td>\n",
       "      <td>0</td>\n",
       "      <td>0</td>\n",
       "      <td>0.040708</td>\n",
       "      <td>0.010177</td>\n",
       "      <td>0.000000</td>\n",
       "      <td>0.987178</td>\n",
       "      <td>0.020354</td>\n",
       "      <td>0.152656</td>\n",
       "    </tr>\n",
       "    <tr>\n",
       "      <th>1</th>\n",
       "      <td>1</td>\n",
       "      <td>4.442651</td>\n",
       "      <td>2</td>\n",
       "      <td>1.0</td>\n",
       "      <td>1</td>\n",
       "      <td>1</td>\n",
       "      <td>1</td>\n",
       "      <td>37.753164</td>\n",
       "      <td>-122.429526</td>\n",
       "      <td>3</td>\n",
       "      <td>...</td>\n",
       "      <td>1</td>\n",
       "      <td>0</td>\n",
       "      <td>0</td>\n",
       "      <td>1</td>\n",
       "      <td>0.019886</td>\n",
       "      <td>0.009943</td>\n",
       "      <td>0.029829</td>\n",
       "      <td>0.994299</td>\n",
       "      <td>0.009943</td>\n",
       "      <td>0.099430</td>\n",
       "    </tr>\n",
       "    <tr>\n",
       "      <th>2</th>\n",
       "      <td>2</td>\n",
       "      <td>4.787492</td>\n",
       "      <td>2</td>\n",
       "      <td>1.0</td>\n",
       "      <td>1</td>\n",
       "      <td>0</td>\n",
       "      <td>0</td>\n",
       "      <td>37.781128</td>\n",
       "      <td>-122.501095</td>\n",
       "      <td>159</td>\n",
       "      <td>...</td>\n",
       "      <td>1</td>\n",
       "      <td>0</td>\n",
       "      <td>1</td>\n",
       "      <td>0</td>\n",
       "      <td>0.010611</td>\n",
       "      <td>0.005305</td>\n",
       "      <td>0.843540</td>\n",
       "      <td>0.525223</td>\n",
       "      <td>0.005305</td>\n",
       "      <td>0.111411</td>\n",
       "    </tr>\n",
       "    <tr>\n",
       "      <th>3</th>\n",
       "      <td>3</td>\n",
       "      <td>4.828314</td>\n",
       "      <td>2</td>\n",
       "      <td>1.0</td>\n",
       "      <td>1</td>\n",
       "      <td>1</td>\n",
       "      <td>1</td>\n",
       "      <td>37.773728</td>\n",
       "      <td>-122.463129</td>\n",
       "      <td>138</td>\n",
       "      <td>...</td>\n",
       "      <td>1</td>\n",
       "      <td>0</td>\n",
       "      <td>0</td>\n",
       "      <td>1</td>\n",
       "      <td>0.011734</td>\n",
       "      <td>0.005867</td>\n",
       "      <td>0.809666</td>\n",
       "      <td>0.563246</td>\n",
       "      <td>0.005867</td>\n",
       "      <td>0.164280</td>\n",
       "    </tr>\n",
       "    <tr>\n",
       "      <th>4</th>\n",
       "      <td>4</td>\n",
       "      <td>6.620073</td>\n",
       "      <td>6</td>\n",
       "      <td>2.0</td>\n",
       "      <td>1</td>\n",
       "      <td>1</td>\n",
       "      <td>1</td>\n",
       "      <td>37.730798</td>\n",
       "      <td>-122.448609</td>\n",
       "      <td>18</td>\n",
       "      <td>...</td>\n",
       "      <td>0</td>\n",
       "      <td>0</td>\n",
       "      <td>0</td>\n",
       "      <td>0</td>\n",
       "      <td>0.060066</td>\n",
       "      <td>0.020022</td>\n",
       "      <td>0.180198</td>\n",
       "      <td>0.971069</td>\n",
       "      <td>0.030033</td>\n",
       "      <td>0.140154</td>\n",
       "    </tr>\n",
       "  </tbody>\n",
       "</table>\n",
       "<p>5 rows × 26 columns</p>\n",
       "</div>"
      ],
      "text/plain": [
       "   index  log_price  accommodates  bathrooms  cleaning_fee  \\\n",
       "0      0   6.620073             4        1.0             1   \n",
       "1      1   4.442651             2        1.0             1   \n",
       "2      2   4.787492             2        1.0             1   \n",
       "3      3   4.828314             2        1.0             1   \n",
       "4      4   6.620073             6        2.0             1   \n",
       "\n",
       "   host_identity_verified  instant_bookable   latitude   longitude  \\\n",
       "0                       1                 0  37.772004 -122.431619   \n",
       "1                       1                 1  37.753164 -122.429526   \n",
       "2                       0                 0  37.781128 -122.501095   \n",
       "3                       1                 1  37.773728 -122.463129   \n",
       "4                       1                 1  37.730798 -122.448609   \n",
       "\n",
       "   number_of_reviews  ...  room_type_Private room  room_type_Shared room  \\\n",
       "0                  0  ...                       0                      0   \n",
       "1                  3  ...                       1                      0   \n",
       "2                159  ...                       1                      0   \n",
       "3                138  ...                       1                      0   \n",
       "4                 18  ...                       0                      0   \n",
       "\n",
       "   cancellation_policy_moderate  cancellation_policy_strict  \\\n",
       "0                             0                           0   \n",
       "1                             0                           1   \n",
       "2                             1                           0   \n",
       "3                             0                           1   \n",
       "4                             0                           0   \n",
       "\n",
       "   accommodates_norm  bathrooms_norm  number_of_reviews_norm  \\\n",
       "0           0.040708        0.010177                0.000000   \n",
       "1           0.019886        0.009943                0.029829   \n",
       "2           0.010611        0.005305                0.843540   \n",
       "3           0.011734        0.005867                0.809666   \n",
       "4           0.060066        0.020022                0.180198   \n",
       "\n",
       "   review_scores_rating_norm  bedrooms_norm  count_amenities_norm  \n",
       "0                   0.987178       0.020354              0.152656  \n",
       "1                   0.994299       0.009943              0.099430  \n",
       "2                   0.525223       0.005305              0.111411  \n",
       "3                   0.563246       0.005867              0.164280  \n",
       "4                   0.971069       0.030033              0.140154  \n",
       "\n",
       "[5 rows x 26 columns]"
      ]
     },
     "execution_count": 44,
     "metadata": {},
     "output_type": "execute_result"
    }
   ],
   "source": [
    "full_all = pd.concat([full, scaled_df], axis=1)\n",
    "full_all.head()"
   ]
  },
  {
   "cell_type": "code",
   "execution_count": 45,
   "metadata": {
    "_cell_guid": "0064a41b-639d-4d42-a446-4ac759281d93",
    "_uuid": "f1bed442e9d8f28de251a15244eb1f8a5448b126"
   },
   "outputs": [],
   "source": [
    "# Select which features/variables to include in the dataset from the list below:\n",
    "# 'accommodates_norm', 'bathrooms_norm', 'number_of_reviews_norm', \n",
    "# 'review_scores_rating_norm', 'bedrooms_norm', 'count_amenities_norm'\n",
    "# 'accommodates', 'bathrooms', 'cleaning_fee',\n",
    "#        'host_identity_verified', 'instant_bookable', 'latitude', 'longitude',\n",
    "#        'number_of_reviews', 'review_scores_rating', 'bedrooms',\n",
    "#        'count_amenities', 'property_type_Condominium', 'property_type_House',\n",
    "#        'property_type_Loft', 'room_type_Private room', 'room_type_Shared room',\n",
    "#        'cancellation_policy_moderate', 'cancellation_policy_strict'\n",
    "\n",
    "full_X = full_all[['accommodates_norm', 'bathrooms_norm', 'number_of_reviews_norm', \n",
    "         'review_scores_rating_norm', 'bedrooms_norm', 'count_amenities_norm',\n",
    "                  'cleaning_fee',\n",
    "       'host_identity_verified', 'instant_bookable', 'property_type_Condominium', 'property_type_House',\n",
    "       'property_type_Loft', 'room_type_Private room', 'room_type_Shared room',\n",
    "       'cancellation_policy_moderate', 'cancellation_policy_strict']]"
   ]
  },
  {
   "cell_type": "code",
   "execution_count": 46,
   "metadata": {
    "_uuid": "bc34039b5f96adaf7d285711ae833753fce3465c"
   },
   "outputs": [],
   "source": [
    "def compute_score(clf, X, y, scoring='accuracy'):\n",
    "    xval = cross_val_score(clf, X, y, cv = 5, scoring=scoring)\n",
    "    return np.mean(xval)"
   ]
  },
  {
   "cell_type": "code",
   "execution_count": 47,
   "metadata": {},
   "outputs": [
    {
     "data": {
      "text/plain": [
       "accommodates_norm               5985\n",
       "bathrooms_norm                  5985\n",
       "number_of_reviews_norm          5985\n",
       "review_scores_rating_norm       5985\n",
       "bedrooms_norm                   5985\n",
       "count_amenities_norm            5985\n",
       "cleaning_fee                    5985\n",
       "host_identity_verified          5985\n",
       "instant_bookable                5985\n",
       "property_type_Condominium       5985\n",
       "property_type_House             5985\n",
       "property_type_Loft              5985\n",
       "room_type_Private room          5985\n",
       "room_type_Shared room           5985\n",
       "cancellation_policy_moderate    5985\n",
       "cancellation_policy_strict      5985\n",
       "dtype: int64"
      ]
     },
     "execution_count": 47,
     "metadata": {},
     "output_type": "execute_result"
    }
   ],
   "source": [
    "full_X.count()"
   ]
  },
  {
   "cell_type": "code",
   "execution_count": 50,
   "metadata": {},
   "outputs": [
    {
     "data": {
      "text/plain": [
       "0       0.040708\n",
       "1       0.019886\n",
       "2       0.010611\n",
       "3       0.011734\n",
       "4       0.060066\n",
       "          ...   \n",
       "5980    0.019160\n",
       "5981    0.035717\n",
       "5982    0.008864\n",
       "5983    0.020275\n",
       "5984    0.019279\n",
       "Name: accommodates_norm, Length: 5985, dtype: float64"
      ]
     },
     "execution_count": 50,
     "metadata": {},
     "output_type": "execute_result"
    }
   ],
   "source": []
  },
  {
   "cell_type": "code",
   "execution_count": 51,
   "metadata": {
    "_uuid": "319f0c3e63446fb21fc54c7e51b1fd54d602bc85"
   },
   "outputs": [],
   "source": [
    "train = full_X.head(4785)\n",
    "test = full_X.iloc[4785:]\n",
    "train_targets = full['log_price'].head(4785)\n",
    "test_targets = full['log_price'].iloc[4785:]"
   ]
  },
  {
   "cell_type": "code",
   "execution_count": 52,
   "metadata": {
    "_uuid": "9344a7246e1667efd8aaf6c06910be7766b81ca2"
   },
   "outputs": [
    {
     "data": {
      "text/plain": [
       "16"
      ]
     },
     "execution_count": 52,
     "metadata": {},
     "output_type": "execute_result"
    }
   ],
   "source": [
    "len(train.columns.values)"
   ]
  },
  {
   "cell_type": "markdown",
   "metadata": {
    "_uuid": "324e80dc4f4ce6650e7f2422cc543c9e8dc6512d"
   },
   "source": [
    "__Tree-based estimators can be used to compute feature importances, which in turn can be used to discard irrelevant features.__"
   ]
  },
  {
   "cell_type": "code",
   "execution_count": 55,
   "metadata": {
    "_uuid": "0741c82bf2507ef2061cbc57506f196bd89b515f"
   },
   "outputs": [],
   "source": [
    "from sklearn.ensemble import RandomForestRegressor\n",
    "from sklearn.feature_selection import SelectFromModel\n",
    "clf = RandomForestRegressor(n_estimators=50, max_features='sqrt')\n",
    "clf = clf.fit(train, train_targets)"
   ]
  },
  {
   "cell_type": "code",
   "execution_count": 56,
   "metadata": {
    "_uuid": "fbafef5afb2d05721bc501cdd7786c85ecfb324f"
   },
   "outputs": [],
   "source": [
    "features = pd.DataFrame()\n",
    "features['feature'] = train.columns\n",
    "features['importance'] = clf.feature_importances_\n",
    "features.sort_values(by=['importance'], ascending=True, inplace=True)\n",
    "features.set_index('feature', inplace=True)"
   ]
  },
  {
   "cell_type": "code",
   "execution_count": 57,
   "metadata": {
    "_uuid": "aaa60c19b66732e5cd13e38c6df6157d33936fdf"
   },
   "outputs": [
    {
     "data": {
      "text/plain": [
       "<matplotlib.axes._subplots.AxesSubplot at 0x7fbce86dc700>"
      ]
     },
     "execution_count": 57,
     "metadata": {},
     "output_type": "execute_result"
    },
    {
     "data": {
      "image/png": "[encoded data removed]",
      "text/plain": [
       "<Figure size 1440x1440 with 1 Axes>"
      ]
     },
     "metadata": {
      "needs_background": "light"
     },
     "output_type": "display_data"
    }
   ],
   "source": [
    "features.plot(kind='barh', figsize=(20, 20))"
   ]
  },
  {
   "cell_type": "code",
   "execution_count": 58,
   "metadata": {
    "_uuid": "543ac6f4f026b0adb4175b9d7e05f6e6db2d547b"
   },
   "outputs": [
    {
     "data": {
      "text/plain": [
       "(4785, 7)"
      ]
     },
     "execution_count": 58,
     "metadata": {},
     "output_type": "execute_result"
    }
   ],
   "source": [
    "model = SelectFromModel(clf, prefit=True)\n",
    "train_reduced = model.transform(train)\n",
    "train_reduced.shape"
   ]
  },
  {
   "cell_type": "code",
   "execution_count": 59,
   "metadata": {
    "_uuid": "3dbd4d19c468e9d51dc4dcbfe0dbfd4d554baa4b"
   },
   "outputs": [
    {
     "data": {
      "text/plain": [
       "(1200, 7)"
      ]
     },
     "execution_count": 59,
     "metadata": {},
     "output_type": "execute_result"
    }
   ],
   "source": [
    "test_reduced = model.transform(test)\n",
    "test_reduced.shape"
   ]
  },
  {
   "cell_type": "markdown",
   "metadata": {},
   "source": [
    "# 3.4 Assemble final datasets for modelling"
   ]
  },
  {
   "cell_type": "code",
   "execution_count": 78,
   "metadata": {
    "_uuid": "82c62765cb0ce97be5b62d6e8b4eb9a15c53008f"
   },
   "outputs": [],
   "source": [
    "from sklearn.pipeline import make_pipeline\n",
    "from sklearn.ensemble import RandomForestRegressor\n",
    "from sklearn.feature_selection import SelectKBest\n",
    "from sklearn.model_selection import StratifiedKFold\n",
    "from sklearn.model_selection import GridSearchCV\n",
    "from sklearn.ensemble.gradient_boosting import GradientBoostingClassifier\n",
    "from sklearn.model_selection import cross_val_score\n",
    "from sklearn.linear_model import LinearRegression"
   ]
  },
  {
   "cell_type": "markdown",
   "metadata": {},
   "source": [
    "### RandomForestRegressor"
   ]
  },
  {
   "cell_type": "code",
   "execution_count": 68,
   "metadata": {
    "_uuid": "f8e4f2fd369df59cdebb83f34326eb4784ce5e73"
   },
   "outputs": [],
   "source": [
    "# turn run_gs to True if you want to run the gridsearch again.\n",
    "run_gs = False\n",
    "\n",
    "if run_gs:\n",
    "    parameter_grid = {\n",
    "                 'max_depth' : [4, 6, 8],\n",
    "                 'n_estimators': [50, 10],\n",
    "                 'max_features': ['sqrt', 'auto', 'log2'],\n",
    "                 'min_samples_split': [1, 3, 10],\n",
    "                 'min_samples_leaf': [1, 3, 10],\n",
    "                 'bootstrap': [True, False],\n",
    "                 }\n",
    "    forest = RandomForestRegressor()\n",
    "    cross_validation = StratifiedKFold(train_targets, n_splits=5)\n",
    "\n",
    "    grid_search = GridSearchCV(forest,\n",
    "                               scoring='accuracy',\n",
    "                               param_grid=parameter_grid,\n",
    "                               cv=cross_validation)\n",
    "\n",
    "    grid_search.fit(train, train_targets)\n",
    "    model = grid_search\n",
    "    parameters = grid_search.best_params_\n",
    "\n",
    "    print('Best score: {}'.format(grid_search.best_score_))\n",
    "    print('Best parameters: {}'.format(grid_search.best_params_))\n",
    "else: \n",
    "    parameters = {'bootstrap': False, 'min_samples_leaf': 3, 'n_estimators': 50, \n",
    "                  'min_samples_split': 10, 'max_features': 'sqrt', 'max_depth': 6}\n",
    "    \n",
    "    model = RandomForestRegressor(**parameters)\n",
    "    model.fit(train, train_targets)"
   ]
  },
  {
   "cell_type": "code",
   "execution_count": 73,
   "metadata": {
    "_uuid": "55813004e9ac56f79b2944ecb770815a5d07e57d"
   },
   "outputs": [
    {
     "data": {
      "text/plain": [
       "0.5602601749740928"
      ]
     },
     "execution_count": 73,
     "metadata": {},
     "output_type": "execute_result"
    }
   ],
   "source": [
    "compute_score(model, train, train_targets, scoring='r2')"
   ]
  },
  {
   "cell_type": "code",
   "execution_count": 71,
   "metadata": {
    "_uuid": "46f46bc52f3339e7d6928f241c4294d58ef12565"
   },
   "outputs": [
    {
     "data": {
      "text/plain": [
       "0.6067551489991583"
      ]
     },
     "execution_count": 71,
     "metadata": {},
     "output_type": "execute_result"
    }
   ],
   "source": [
    "model.score(train, train_targets)"
   ]
  },
  {
   "cell_type": "code",
   "execution_count": 92,
   "metadata": {},
   "outputs": [
    {
     "data": {
      "text/plain": [
       "0.5369259863151429"
      ]
     },
     "execution_count": 92,
     "metadata": {},
     "output_type": "execute_result"
    }
   ],
   "source": [
    "model.score(test, test_targets)"
   ]
  },
  {
   "cell_type": "markdown",
   "metadata": {},
   "source": [
    "### LinearRegression"
   ]
  },
  {
   "cell_type": "code",
   "execution_count": 79,
   "metadata": {},
   "outputs": [
    {
     "data": {
      "text/plain": [
       "LinearRegression()"
      ]
     },
     "execution_count": 79,
     "metadata": {},
     "output_type": "execute_result"
    }
   ],
   "source": [
    "linear = LinearRegression()\n",
    "linear.fit(train, train_targets)"
   ]
  },
  {
   "cell_type": "code",
   "execution_count": 80,
   "metadata": {},
   "outputs": [
    {
     "data": {
      "text/plain": [
       "0.5359273961742049"
      ]
     },
     "execution_count": 80,
     "metadata": {},
     "output_type": "execute_result"
    }
   ],
   "source": [
    "compute_score(linear, train, train_targets, scoring='r2')"
   ]
  },
  {
   "cell_type": "code",
   "execution_count": 81,
   "metadata": {},
   "outputs": [
    {
     "data": {
      "text/plain": [
       "0.5406274279365366"
      ]
     },
     "execution_count": 81,
     "metadata": {},
     "output_type": "execute_result"
    }
   ],
   "source": [
    "linear.score(train, train_targets)"
   ]
  },
  {
   "cell_type": "code",
   "execution_count": 93,
   "metadata": {},
   "outputs": [
    {
     "data": {
      "text/plain": [
       "0.5256220611078862"
      ]
     },
     "execution_count": 93,
     "metadata": {},
     "output_type": "execute_result"
    }
   ],
   "source": [
    "linear.score(test, test_targets)"
   ]
  },
  {
   "cell_type": "markdown",
   "metadata": {},
   "source": [
    "### Ridge"
   ]
  },
  {
   "cell_type": "code",
   "execution_count": 83,
   "metadata": {},
   "outputs": [
    {
     "data": {
      "text/plain": [
       "Ridge(alpha=0.5)"
      ]
     },
     "execution_count": 83,
     "metadata": {},
     "output_type": "execute_result"
    }
   ],
   "source": [
    "from sklearn import linear_model\n",
    "ridge = linear_model.Ridge(alpha=.5)\n",
    "ridge.fit(train, train_targets)"
   ]
  },
  {
   "cell_type": "code",
   "execution_count": 84,
   "metadata": {},
   "outputs": [
    {
     "data": {
      "text/plain": [
       "0.5188514504771111"
      ]
     },
     "execution_count": 84,
     "metadata": {},
     "output_type": "execute_result"
    }
   ],
   "source": [
    "compute_score(ridge, train, train_targets, scoring='r2')"
   ]
  },
  {
   "cell_type": "code",
   "execution_count": 85,
   "metadata": {},
   "outputs": [
    {
     "data": {
      "text/plain": [
       "0.5264478529847003"
      ]
     },
     "execution_count": 85,
     "metadata": {},
     "output_type": "execute_result"
    }
   ],
   "source": [
    "ridge.score(train, train_targets)"
   ]
  },
  {
   "cell_type": "code",
   "execution_count": 94,
   "metadata": {},
   "outputs": [
    {
     "data": {
      "text/plain": [
       "0.5142911340052109"
      ]
     },
     "execution_count": 94,
     "metadata": {},
     "output_type": "execute_result"
    }
   ],
   "source": [
    "ridge.score(test, test_targets)"
   ]
  },
  {
   "cell_type": "markdown",
   "metadata": {},
   "source": [
    "### Lasso"
   ]
  },
  {
   "cell_type": "code",
   "execution_count": 86,
   "metadata": {},
   "outputs": [
    {
     "data": {
      "text/plain": [
       "Lasso(alpha=0.1)"
      ]
     },
     "execution_count": 86,
     "metadata": {},
     "output_type": "execute_result"
    }
   ],
   "source": [
    "lasso = linear_model.Lasso(alpha=0.1)\n",
    "lasso.fit(train, train_targets)\n"
   ]
  },
  {
   "cell_type": "code",
   "execution_count": 87,
   "metadata": {},
   "outputs": [
    {
     "data": {
      "text/plain": [
       "0.22561603413236467"
      ]
     },
     "execution_count": 87,
     "metadata": {},
     "output_type": "execute_result"
    }
   ],
   "source": [
    "compute_score(lasso, train, train_targets, scoring='r2')"
   ]
  },
  {
   "cell_type": "code",
   "execution_count": 88,
   "metadata": {},
   "outputs": [
    {
     "data": {
      "text/plain": [
       "0.22645135028131014"
      ]
     },
     "execution_count": 88,
     "metadata": {},
     "output_type": "execute_result"
    }
   ],
   "source": [
    "lasso.score(train, train_targets)"
   ]
  },
  {
   "cell_type": "code",
   "execution_count": 95,
   "metadata": {},
   "outputs": [
    {
     "data": {
      "text/plain": [
       "0.1998621405774026"
      ]
     },
     "execution_count": 95,
     "metadata": {},
     "output_type": "execute_result"
    }
   ],
   "source": [
    "lasso.score(test, test_targets)"
   ]
  },
  {
   "cell_type": "markdown",
   "metadata": {},
   "source": [
    "### GradientBoostingRegressor"
   ]
  },
  {
   "cell_type": "code",
   "execution_count": 89,
   "metadata": {},
   "outputs": [
    {
     "data": {
      "text/plain": [
       "GradientBoostingRegressor(random_state=0)"
      ]
     },
     "execution_count": 89,
     "metadata": {},
     "output_type": "execute_result"
    }
   ],
   "source": [
    "from sklearn.ensemble import GradientBoostingRegressor\n",
    "gbreg = GradientBoostingRegressor(random_state=0)\n",
    "gbreg.fit(train, train_targets)\n"
   ]
  },
  {
   "cell_type": "code",
   "execution_count": 90,
   "metadata": {},
   "outputs": [
    {
     "data": {
      "text/plain": [
       "0.5733638462488204"
      ]
     },
     "execution_count": 90,
     "metadata": {},
     "output_type": "execute_result"
    }
   ],
   "source": [
    "compute_score(gbreg, train, train_targets, scoring='r2')"
   ]
  },
  {
   "cell_type": "code",
   "execution_count": 91,
   "metadata": {},
   "outputs": [
    {
     "data": {
      "text/plain": [
       "0.6354686597460795"
      ]
     },
     "execution_count": 91,
     "metadata": {},
     "output_type": "execute_result"
    }
   ],
   "source": [
    "gbreg.score(train, train_targets)"
   ]
  },
  {
   "cell_type": "code",
   "execution_count": 96,
   "metadata": {},
   "outputs": [
    {
     "data": {
      "text/plain": [
       "0.5614830201374639"
      ]
     },
     "execution_count": 96,
     "metadata": {},
     "output_type": "execute_result"
    }
   ],
   "source": [
    "gbreg.score(test, test_targets)"
   ]
  },
  {
   "cell_type": "code",
   "execution_count": null,
   "metadata": {},
   "outputs": [],
   "source": []
  }
 ],
 "metadata": {
  "kernelspec": {
   "display_name": "Python 3",
   "language": "python",
   "name": "python3"
  },
  "language_info": {
   "codemirror_mode": {
    "name": "ipython",
    "version": 3
   },
   "file_extension": ".py",
   "mimetype": "text/x-python",
   "name": "python",
   "nbconvert_exporter": "python",
   "pygments_lexer": "ipython3",
   "version": "3.8.3"
  }
 },
 "nbformat": 4,
 "nbformat_minor": 1
}
